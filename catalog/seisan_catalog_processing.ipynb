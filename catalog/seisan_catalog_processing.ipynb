{
 "cells": [
  {
   "cell_type": "code",
   "execution_count": null,
   "metadata": {},
   "outputs": [],
   "source": [
    "import sys, os\n",
    "from glob import glob\n",
    "#from pprint import pprint\n",
    "#import pandas as pd\n",
    "#from datetime import datetime\n",
    "\n",
    "LIBpath = os.path.join( os.getenv('HOME'),'src','kitchensinkGT', 'LIB')\n",
    "sys.path.append('%s/seisanDBtools' % LIBpath)\n",
    "from Sfile import Sfile, spath2datetime\n",
    "from seisanDBwrappers import get_sfile_list, processREAfiles, processSeisanYearMonth2\n",
    "\n",
    "SEISAN_DATA = os.path.join( os.getenv('HOME'),'DATA','MVO')\n",
    "os.chdir(SEISAN_DATA)\n",
    "DB = 'MVOE_'\n",
    "#YYYY='2001'\n",
    "#MM='08'\n",
    "#processREAfiles('.', DB, YYYY, MM, MAXFILES=3)\n",
    "#processSeisanYearMonth('.', DB, YYYY, MM, MAXFILES=9)\n",
    "\n",
    "yeardirs = sorted(glob(os.path.join('REA',DB,'[21]???')))\n",
    "for yeardir in yeardirs:\n",
    "    YYYY = os.path.basename(yeardir)\n",
    "    monthsdirs = sorted(glob(os.path.join(yeardir,'[01]?')))\n",
    "    for monthdir in monthsdirs:\n",
    "        MM = os.path.basename(monthdir)\n",
    "        print('Processing %s' % monthdir)\n",
    "        failedWAVfiles = processSeisanYearMonth2('.', DB, YYYY, MM, MAXFILES=999999)\n",
    "        fptr=open('failedWAVfiles.txt','a')\n",
    "        for element in failedWAVfiles:\n",
    "            fptr.write(element)\n",
    "            fptr.write('\\n')\n",
    "        fptr.close()"
   ]
  },
  {
   "cell_type": "code",
   "execution_count": null,
   "metadata": {},
   "outputs": [],
   "source": [
    "\"\"\" \n",
    "This workflow is good. The short-term goal is to process all S-files and make use of the\n",
    "information in the S-files. But now I know I can also correct the corresponding WAV files,\n",
    "and make pickle files and spectrogram plots for them, etc.\n",
    "\n",
    "I still need to work on ways to get trace metrics to dataframe and summarize on webpage.\n",
    "\n",
    "And then to make CSV files (one per event), improving the 2019 IPGP workflow.\n",
    "\n",
    "And then decide how to choose the best events.\n",
    "\n",
    "\"\"\"\n",
    "\n",
    "import sys, os\n",
    "sys.path.append('%s/src/kitchensinkGT/LIB/seisanDBtools' % os.getenv('HOME'))\n",
    "from Sfile import Sfile, printEvents\n",
    "sfilebase = '01-0242-12L.S199901'\n",
    "sfilebase = '01-0149-37R.S200505'\n",
    "DB = 'MVOE_'\n",
    "sfilepath = os.path.join(os.getenv('HOME'),'DATA','MVO', 'REA', DB, sfilebase[-6:-2], sfilebase[-2:], sfilebase)\n",
    "sfileobj = Sfile(sfilepath)\n",
    "sfileobj.cat()\n",
    "#sfileobj.parse_sfile()\n",
    "#print(sfileobj)\n",
    "sfileobj.printEvents()\n"
   ]
  },
  {
   "cell_type": "code",
   "execution_count": null,
   "metadata": {},
   "outputs": [],
   "source": []
  },
  {
   "cell_type": "code",
   "execution_count": null,
   "metadata": {},
   "outputs": [],
   "source": [
    "for w in s.wavfiles:\n",
    "    print(w)\n",
    "    w.read()\n",
    "    w.plot()"
   ]
  },
  {
   "cell_type": "code",
   "execution_count": null,
   "metadata": {},
   "outputs": [],
   "source": []
  }
 ],
 "metadata": {
  "kernelspec": {
   "display_name": "Python 3",
   "language": "python",
   "name": "python3"
  },
  "language_info": {
   "codemirror_mode": {
    "name": "ipython",
    "version": 3
   },
   "file_extension": ".py",
   "mimetype": "text/x-python",
   "name": "python",
   "nbconvert_exporter": "python",
   "pygments_lexer": "ipython3",
   "version": "3.6.7"
  }
 },
 "nbformat": 4,
 "nbformat_minor": 4
}
