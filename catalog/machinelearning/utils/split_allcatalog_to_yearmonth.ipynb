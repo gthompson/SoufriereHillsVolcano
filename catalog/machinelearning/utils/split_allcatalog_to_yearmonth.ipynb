{
 "cells": [
  {
   "cell_type": "code",
   "execution_count": 6,
   "metadata": {},
   "outputs": [
    {
     "name": "stdout",
     "output_type": "stream",
     "text": [
      "Select CSV file\n",
      "1996 [10, 11, 12]\n",
      "1997 [1, 2, 3, 4, 5, 6, 7, 8, 9, 10, 11, 12]\n",
      "1901 [3]\n",
      "1998 [1, 2, 3, 4, 5, 6, 7, 8, 9, 10, 11, 12]\n",
      "1999 [1, 2, 3, 4, 5, 6, 7, 8, 9, 10, 11, 12]\n",
      "2000 [1, 2, 3, 4, 5, 6, 7, 8, 9, 10, 11, 12]\n",
      "2001 [1, 2, 3, 4, 5, 6, 7, 8, 9, 10, 11, 12]\n",
      "2002 [1, 2, 3, 4, 5, 6, 7, 8, 9, 10, 11, 12]\n",
      "2003 [1, 2, 3, 4, 5, 6, 7, 8, 9, 10, 11, 12]\n",
      "2004 [1, 2, 3, 4, 5, 6, 7, 8, 9, 10, 11, 12]\n",
      "2005 [1, 2, 3, 4, 5, 6, 7, 8, 9, 10, 11, 12]\n",
      "2006 [1, 2, 3, 4, 5, 6, 7, 8, 9, 10, 11, 12]\n",
      "2007 [1, 2, 3, 4, 5, 6, 7, 8, 9, 10, 11, 12]\n",
      "2008 [1, 2, 3, 4, 5, 6, 7, 8]\n"
     ]
    }
   ],
   "source": [
    "import tkinter as tk\n",
    "from tkinter import filedialog\n",
    "import pandas as pd\n",
    "import os\n",
    "\n",
    "print('Select CSV file')\n",
    "root=tk.Tk()\n",
    "root.withdraw()\n",
    "file_path = filedialog.askopenfilename()\n",
    "dfall = pd.read_csv(file_path)\n",
    "file_base = os.path.basename(file_path)[:-4]\n",
    "\n",
    "years = list(set(sorted(dfall.year)))\n",
    "for thisyear in years:\n",
    "    dfyear = dfall[dfall.year == thisyear]\n",
    "    months = list(set(sorted(dfyear.month)))\n",
    "    print(thisyear, months)\n",
    "    for thismonth in months:\n",
    "        dfyearmonth = dfyear[dfyear.month == thismonth]\n",
    "        yearmonthcsv = '%s%4d%02d.csv' % (file_base, thisyear, thismonth)\n",
    "        dfyearmonth.to_csv(yearmonthcsv)  "
   ]
  },
  {
   "cell_type": "code",
   "execution_count": null,
   "metadata": {},
   "outputs": [],
   "source": []
  }
 ],
 "metadata": {
  "kernelspec": {
   "display_name": "Python 3",
   "language": "python",
   "name": "python3"
  },
  "language_info": {
   "codemirror_mode": {
    "name": "ipython",
    "version": 3
   },
   "file_extension": ".py",
   "mimetype": "text/x-python",
   "name": "python",
   "nbconvert_exporter": "python",
   "pygments_lexer": "ipython3",
   "version": "3.6.7"
  }
 },
 "nbformat": 4,
 "nbformat_minor": 2
}
