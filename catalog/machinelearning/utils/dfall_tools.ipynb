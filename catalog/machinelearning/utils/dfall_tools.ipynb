{
 "cells": [
  {
   "cell_type": "markdown",
   "metadata": {},
   "source": [
    "# Some tools for tooling around with the dfall dataframe\n",
    "The aim of this code is to find the best N events of each type, and create a corresponding CSV file and data structure for entry into Alexis' and Marielle's AAA codes."
   ]
  },
  {
   "cell_type": "code",
   "execution_count": null,
   "metadata": {
    "scrolled": true
   },
   "outputs": [],
   "source": [
    "# Here we plot the first 1-minute of each selected event file, padding if needed\n",
    "# We do this mainly to see the variable onset time of signals within event files\n",
    "import pandas as pd\n",
    "aaa_infile = 'aaa_labelled_events.csv' \n",
    "dfAAA = pd.read_csv(aaa_infile)\n",
    "for i, row in dfAAA.iterrows():\n",
    "    st = read(row['path'])\n",
    "    st = st.select(station='MBLG', component='Z')\n",
    "    if len(st):\n",
    "        stime = st[0].stats.starttime\n",
    "        st.trim(starttime=stime,endtime=stime+60,pad=True,fill_value=0)\n",
    "        st.plot();\n",
    "        print('subclass = %s' % row['class'])\n",
    "        #dummy = input('ENTER to see next signal')"
   ]
  },
  {
   "cell_type": "code",
   "execution_count": null,
   "metadata": {},
   "outputs": [],
   "source": [
    "# See if Pickle files are corrected\n",
    "import matplotlib.pyplot as plt\n",
    "import pandas as pd\n",
    "from obspy.core import read, UTCDateTime\n",
    "outfile = 'catalog_all.csv'\n",
    "dfall = pd.read_csv(outfile)\n",
    "df = dfall.copy()\n",
    "df.sort_values(by=['trigger_duration'],ascending=False)\n",
    "for i,row in df.iterrows():\n",
    "    abpath =row['path'].replace('./WAV', '/Users/thompsong/DATA/MVO/PICKLE') + '.pickle'\n",
    "    st = read(abpath)\n",
    "    for tr in st:\n",
    "        print(tr.stats)\n",
    "    st.plot()\n",
    "    dummy = input('ENTER to see next event, or q to quit')  \n",
    "    if dummy=='q':\n",
    "        break    "
   ]
  },
  {
   "cell_type": "code",
   "execution_count": null,
   "metadata": {},
   "outputs": [],
   "source": [
    "# See if there is a relationship between detection window length and length of file for different subclasses\n",
    "import matplotlib.pyplot as plt\n",
    "import pandas as pd\n",
    "from obspy.core import read, UTCDateTime\n",
    "outfile = 'catalog_all.csv'\n",
    "dfall = pd.read_csv(outfile)\n",
    "df = dfall.copy()\n",
    "for subclass in ['r','e','l','h','t']:\n",
    "    df0 = df[df['new_subclass']==subclass]\n",
    "    df0 = df0[df0['trigger_duration']>0]\n",
    "    #print(df_subclass.columns)\n",
    "    print(subclass)\n",
    "    print(df0[['twin','trigger_duration']].describe())\n",
    "    for i,row in df0.iterrows():\n",
    "        abpath =row['path'].replace('./', '/Users/thompsong/DATA/MVO/')\n",
    "        st = read(abpath)\n",
    "        st = st.select(station='MBLG', component='Z')\n",
    "        \n",
    "        if len(st)==0:\n",
    "            st = st.select(station='MBWH', component='Z')\n",
    "        if len(st)==0:\n",
    "            tr = st[0]\n",
    "            st = Stream()\n",
    "            st.append(tr)\n",
    "        #st.plot(equal_scale=False)\n",
    "        st.normalize()\n",
    "        plt.plot(st[0].times(), st[0].data)\n",
    "        ontime = UTCDateTime.strptime(row['ontime'], format='%Y-%m-%dT%H:%M:%S.%f%z')\n",
    "        offtime = UTCDateTime.strptime(row['offtime'], format='%Y-%m-%dT%H:%M:%S.%f%z')\n",
    "        filetime = UTCDateTime.strptime(row['filetime'], format='%Y-%m-%dT%H:%M:%S.%f%z')\n",
    "        plt.vlines([ontime-filetime, offtime-filetime],-1,1,'r')\n",
    "        plt.ylabel(st[0].id)\n",
    "        plt.title('subclass = %s ' % subclass)\n",
    "        plt.xlabel('Time (s)')\n",
    "        \n",
    "        plt.show()\n",
    "        dummy = input('ENTER to see next event, or q to quit')  \n",
    "        if dummy=='q':\n",
    "            break"
   ]
  },
  {
   "cell_type": "code",
   "execution_count": null,
   "metadata": {},
   "outputs": [],
   "source": [
    "# See the events that I have marked for splitting\n",
    "outfile = 'catalog_all.csv'\n",
    "dfall = pd.read_csv(outfile)\n",
    "df = dfall.copy()\n",
    "df = df[df['split']==True]"
   ]
  },
  {
   "cell_type": "code",
   "execution_count": null,
   "metadata": {},
   "outputs": [],
   "source": [
    "outfile = 'catalog_all.csv'\n",
    "dfall = pd.read_csv(outfile)\n",
    "df = dfall.copy()\n",
    "df = df[df['checked']==True]\n",
    "df = df[df['ignore']==False]\n",
    "df = df[df['delete']==False]\n",
    "df = df[df['split']==False]\n",
    "frames = []\n",
    "for subclass in ['R', 'r', 'e', 'l', 'h', 't']:\n",
    "    dfs = df[df['new_subclass']==subclass]\n",
    "    print(subclass, len(dfs.index))\n",
    "    frames.append(dfs)\n",
    "newdf = pd.concat(frames)\n",
    "for index, row in newdf.iterrows():\n",
    "    print(row[['filetime', 'subclass', 'R', 'r', 'e', 'l', 'h', 't', 'new_subclass']])"
   ]
  },
  {
   "cell_type": "code",
   "execution_count": null,
   "metadata": {},
   "outputs": [],
   "source": [
    "# testing that the input parsing works\n",
    "df = dfall.copy()\n",
    "\n",
    "new_subclass = 't, 50, h, 49, 6'\n",
    "spl = new_subclass.split(',') # split string to subclass probability list \n",
    "if len(spl) % 2 == 1:\n",
    "    weight = int(spl.pop())\n",
    "    print(weight)\n",
    "spd = {spl[a].strip():spl[a + 1] for a in range(0, len(spl), 2)} # subclass probability dict\n",
    "print(spd)\n",
    "print(spd.keys())\n",
    "for key in subclasses_for_ML:\n",
    "    if key in spd.keys():\n",
    "        val = int(spd[key])\n",
    "    else:\n",
    "        val = 0\n",
    "    print(key, val)\n",
    "keymax = max(spd, key=spd.get)\n",
    "print('new_subclass = ',keymax)"
   ]
  },
  {
   "cell_type": "code",
   "execution_count": null,
   "metadata": {},
   "outputs": [],
   "source": [
    "# I am guessing a lot of the e and R events are being ignored because of the 60-s length limit.\n",
    "# Remove that limit.\n",
    "# So just look for checked events that are ignored and have a length of twin>60. And turn ignore to False.\n",
    "df = dfall.copy()\n",
    "df = df[df['checked']==True]\n",
    "df = df[df['ignore']==True]\n",
    "df = df[df['delete']==False]\n",
    "df = df[df['split']==False]\n",
    "df = df[df['twin']>=60.0]\n",
    "print(df.groupby('new_subclass').size())\n",
    "df['ignore']=False\n",
    "dfall2 = dfall.copy()\n",
    "dfall2.update(df)\n",
    "print(dfall2[dfall2['checked']==True].groupby('new_subclass').size())\n",
    "print(dfall2.iloc[0])\n",
    "\n",
    "dfall2.to_csv(outfile, index=False)"
   ]
  },
  {
   "cell_type": "code",
   "execution_count": null,
   "metadata": {},
   "outputs": [],
   "source": [
    "# Flipping unchecked events of length>60 from ignored to not ignored\n",
    "df = dfall.copy()\n",
    "df = df[df['checked']==False]\n",
    "df = df[df['ignore']==True]\n",
    "df = df[df['twin']>=60.0]\n",
    "print(df.groupby('new_subclass').size())\n",
    "df['ignore']=False\n",
    "dfall2 = dfall.copy()\n",
    "dfall2.update(df)\n",
    "print(dfall2[dfall2['checked']==False].groupby('new_subclass').size())\n",
    "#print(dfall2.iloc[0])\n",
    "\n",
    "dfall2.to_csv(outfile, index=False)"
   ]
  },
  {
   "cell_type": "code",
   "execution_count": null,
   "metadata": {},
   "outputs": [],
   "source": [
    "# I also need to apply a 100 year correction to any data from 1901! print(dfall.iloc[0])\n",
    "# map is not working"
   ]
  },
  {
   "cell_type": "code",
   "execution_count": 8,
   "metadata": {},
   "outputs": [
    {
     "name": "stdout",
     "output_type": "stream",
     "text": [
      "subclass r: 81\n",
      "          bw_min      peakF     bw_max    medianF  bandratio1  bandratio2\n",
      "count  81.000000  81.000000  81.000000  81.000000   81.000000   81.000000\n",
      "mean    2.575309   4.139506   6.214815   7.687654   -1.116924    0.898646\n",
      "std     0.660214   1.035698   1.737607   1.326969    0.563595    0.741189\n",
      "min     0.600000   2.500000   3.900000   5.100000   -2.277547   -0.804879\n",
      "25%     2.100000   3.400000   5.000000   7.000000   -1.510290    0.382116\n",
      "50%     2.600000   4.000000   6.100000   7.700000   -1.063912    0.990179\n",
      "75%     3.100000   4.600000   6.700000   8.400000   -0.796518    1.431392\n",
      "max     4.300000   8.800000  13.100000  11.400000    0.072017    2.128303\n",
      "subclass e: 116\n",
      "           bw_min       peakF      bw_max     medianF  bandratio1  bandratio2\n",
      "count  116.000000  116.000000  116.000000  116.000000  116.000000  116.000000\n",
      "mean     1.993103    3.455172    5.369828    7.010345   -1.423150    0.404316\n",
      "std      0.576907    0.689341    1.792750    1.019922    0.445478    0.530729\n",
      "min      0.800000    1.900000    3.300000    4.600000   -3.028928   -0.985933\n",
      "25%      1.700000    2.975000    4.600000    6.475000   -1.674024    0.102304\n",
      "50%      1.900000    3.500000    5.100000    7.000000   -1.413943    0.398562\n",
      "75%      2.300000    4.000000    5.900000    7.500000   -1.102491    0.787389\n",
      "max      3.300000    5.400000   22.400000   13.700000   -0.146787    1.900116\n",
      "subclass l: 102\n",
      "           bw_min       peakF      bw_max     medianF  bandratio1  bandratio2\n",
      "count  102.000000  102.000000  102.000000  102.000000  102.000000  102.000000\n",
      "mean     1.109804    2.316667    3.897059    5.801961   -2.115446   -0.690140\n",
      "std      0.411351    0.545564    1.198138    1.158266    0.568309    0.682450\n",
      "min      0.500000    1.500000    2.400000    3.500000   -3.755657   -2.385174\n",
      "25%      0.800000    1.825000    3.400000    5.025000   -2.457050   -1.125755\n",
      "50%      1.000000    2.200000    3.700000    5.700000   -2.100123   -0.736142\n",
      "75%      1.300000    2.575000    4.100000    6.375000   -1.824898   -0.343064\n",
      "max      2.500000    3.800000   13.400000    9.800000   -0.800905    1.038914\n",
      "subclass h: 85\n",
      "          bw_min      peakF     bw_max    medianF  bandratio1  bandratio2\n",
      "count  85.000000  85.000000  85.000000  85.000000   85.000000   85.000000\n",
      "mean    1.775294   3.391765   5.885882   7.256471   -1.266157    0.489257\n",
      "std     0.828353   1.409594   2.806122   1.992632    0.560250    0.735930\n",
      "min     0.500000   1.400000   2.000000   3.800000   -2.302187   -1.804074\n",
      "25%     1.000000   2.600000   4.900000   6.100000   -1.566492    0.121765\n",
      "50%     1.800000   3.400000   5.200000   6.800000   -1.305429    0.436563\n",
      "75%     2.300000   3.700000   5.700000   7.700000   -1.086013    0.774765\n",
      "max     4.500000  10.000000  20.900000  14.100000    0.518348    2.958079\n",
      "subclass t: 90\n",
      "          bw_min      peakF     bw_max    medianF  bandratio1  bandratio2\n",
      "count  90.000000  90.000000  90.000000  90.000000   90.000000   90.000000\n",
      "mean    3.691111   8.241111  13.364444  12.205556    0.018432    2.245623\n",
      "std     2.198602   3.646482   4.470108   2.047655    0.594791    0.787185\n",
      "min     0.400000   2.300000   4.300000   6.200000   -2.151373   -0.279217\n",
      "25%     2.750000   4.800000  11.025000  11.300000   -0.040852    2.048486\n",
      "50%     3.550000   9.300000  13.750000  12.800000    0.211859    2.524469\n",
      "75%     4.000000  10.525000  16.175000  13.500000    0.423542    2.786751\n",
      "max    12.600000  18.700000  23.800000  15.200000    0.658534    3.328822\n"
     ]
    }
   ],
   "source": [
    "#!/usr/bin/env python\n",
    "import os\n",
    "#from glob import glob\n",
    "import pandas as pd\n",
    "#import numpy as np\n",
    "import sys\n",
    "LIBpath = os.path.join( os.getenv('HOME'),'src','kitchensinkGT', 'LIB')\n",
    "sys.path.append(LIBpath)\n",
    "#from libseisGT import add_to_trace_history #, mulplt\n",
    "#from modutils import yn_choice\n",
    "\n",
    "#from obspy import read_inventory #, remove_response\n",
    "#from libMVO import fix_trace_id, inventory_fix_id_mvo, load_mvo_inventory\n",
    "cwd = os.getcwd()\n",
    "sys.path.append(cwd)\n",
    "from libMontyML import build_master_trace_catalog\n",
    "\n",
    "SEISAN_DATA = os.path.join( os.getenv('HOME'),'DATA','MVO')\n",
    "DB = 'MVOE_'\n",
    "\n",
    "\"\"\"\n",
    "outfile = 'catalog_all.csv'\n",
    "dfall = pd.read_csv(outfile)\n",
    "print(len(dfall.index))\n",
    "print(dfall.groupby('subclass').size())\n",
    "\"\"\"\n",
    "\n",
    "os.chdir('/Users/thompsong/src/AAA-master/MONTSERRAT')\n",
    "csvfile_internal = '/Users/thompsong/src/AAA-master/MONTSERRAT/catalog/MVO_labelled_events_filtered.csv'\n",
    "dfreviewed = pd.read_csv(csvfile_internal)\n",
    "\n",
    "traceIDs = ['MV.MBLG..SHZ']\n",
    "for subclass in ['r', 'e', 'l', 'h', 't']:\n",
    "    tracesDF = build_master_trace_catalog(SEISAN_DATA, dfreviewed, subclass)\n",
    "    tracesDF.rename(columns = {'bandratio_[1.0_6.0_11.0]':'bandratio1'}, inplace = True)\n",
    "    tracesDF.rename(columns = {'bandratio_[0.8_4.0_16.0]':'bandratio2'}, inplace = True)\n",
    "    df = tracesDF[tracesDF['id'].isin(traceIDs)]\n",
    "    df = df[['bw_min', 'peakF', 'bw_max', 'medianF', 'bandratio1', 'bandratio2']]\n",
    "    print('subclass %s: %d' % (subclass, len(df.index)))\n",
    "    dfstats = df.describe()\n",
    "    print(dfstats)\n",
    "    \n"
   ]
  },
  {
   "cell_type": "code",
   "execution_count": 2,
   "metadata": {},
   "outputs": [
    {
     "name": "stdout",
     "output_type": "stream",
     "text": [
      "Index(['Fs', 'Unnamed: 0', 'bandratio_[0.8_4.0_16.0]',\n",
      "       'bandratio_[1.0_6.0_11.0]', 'bw_max', 'bw_min', 'calib', 'energy', 'id',\n",
      "       'kurtosis', 'medianF', 'noise_level', 'num_gaps', 'peakA', 'peakF',\n",
      "       'peakamp', 'peaktime', 'percent_availability', 'quality',\n",
      "       'sample_lower_quartile', 'sample_max', 'sample_mean', 'sample_median',\n",
      "       'sample_min', 'sample_rms', 'sample_stdev', 'sample_upper_quartile',\n",
      "       'signal_level', 'skewness', 'snr', 'starttime', 'units'],\n",
      "      dtype='object')\n"
     ]
    }
   ],
   "source": [
    "print(df.columns)"
   ]
  },
  {
   "cell_type": "code",
   "execution_count": 2,
   "metadata": {},
   "outputs": [
    {
     "name": "stdout",
     "output_type": "stream",
     "text": [
      "267514\n"
     ]
    }
   ],
   "source": [
    "print(len(alltracesDF.index))"
   ]
  },
  {
   "cell_type": "code",
   "execution_count": 4,
   "metadata": {},
   "outputs": [
    {
     "name": "stdout",
     "output_type": "stream",
     "text": [
      "17356\n",
      "Index(['Fs', 'Unnamed: 0', 'bandratio_[0.8_4.0_16.0]',\n",
      "       'bandratio_[1.0_6.0_11.0]', 'bw_max', 'bw_min', 'calib', 'energy', 'id',\n",
      "       'kurtosis', 'medianF', 'noise_level', 'num_gaps', 'peakA', 'peakF',\n",
      "       'peakamp', 'peaktime', 'percent_availability', 'quality',\n",
      "       'sample_lower_quartile', 'sample_max', 'sample_mean', 'sample_median',\n",
      "       'sample_min', 'sample_rms', 'sample_stdev', 'sample_upper_quartile',\n",
      "       'signal_level', 'skewness', 'snr', 'starttime', 'units'],\n",
      "      dtype='object')\n"
     ]
    }
   ],
   "source": [
    "MBWH_Z = alltracesDF[alltracesDF.id=='MV.MBWH..SHZ']\n",
    "print(len(MBWH_Z.index))\n",
    "print(MBWH_Z.columns)"
   ]
  },
  {
   "cell_type": "code",
   "execution_count": 5,
   "metadata": {},
   "outputs": [
    {
     "ename": "KeyError",
     "evalue": "'subclass'",
     "output_type": "error",
     "traceback": [
      "\u001b[0;31m---------------------------------------------------------------------------\u001b[0m",
      "\u001b[0;31mKeyError\u001b[0m                                  Traceback (most recent call last)",
      "\u001b[0;32m~/miniconda3/envs/AAA/lib/python3.8/site-packages/pandas/core/indexes/base.py\u001b[0m in \u001b[0;36mget_loc\u001b[0;34m(self, key, method, tolerance)\u001b[0m\n\u001b[1;32m   3079\u001b[0m             \u001b[0;32mtry\u001b[0m\u001b[0;34m:\u001b[0m\u001b[0;34m\u001b[0m\u001b[0;34m\u001b[0m\u001b[0m\n\u001b[0;32m-> 3080\u001b[0;31m                 \u001b[0;32mreturn\u001b[0m \u001b[0mself\u001b[0m\u001b[0;34m.\u001b[0m\u001b[0m_engine\u001b[0m\u001b[0;34m.\u001b[0m\u001b[0mget_loc\u001b[0m\u001b[0;34m(\u001b[0m\u001b[0mcasted_key\u001b[0m\u001b[0;34m)\u001b[0m\u001b[0;34m\u001b[0m\u001b[0;34m\u001b[0m\u001b[0m\n\u001b[0m\u001b[1;32m   3081\u001b[0m             \u001b[0;32mexcept\u001b[0m \u001b[0mKeyError\u001b[0m \u001b[0;32mas\u001b[0m \u001b[0merr\u001b[0m\u001b[0;34m:\u001b[0m\u001b[0;34m\u001b[0m\u001b[0;34m\u001b[0m\u001b[0m\n",
      "\u001b[0;32mpandas/_libs/index.pyx\u001b[0m in \u001b[0;36mpandas._libs.index.IndexEngine.get_loc\u001b[0;34m()\u001b[0m\n",
      "\u001b[0;32mpandas/_libs/index.pyx\u001b[0m in \u001b[0;36mpandas._libs.index.IndexEngine.get_loc\u001b[0;34m()\u001b[0m\n",
      "\u001b[0;32mpandas/_libs/hashtable_class_helper.pxi\u001b[0m in \u001b[0;36mpandas._libs.hashtable.PyObjectHashTable.get_item\u001b[0;34m()\u001b[0m\n",
      "\u001b[0;32mpandas/_libs/hashtable_class_helper.pxi\u001b[0m in \u001b[0;36mpandas._libs.hashtable.PyObjectHashTable.get_item\u001b[0;34m()\u001b[0m\n",
      "\u001b[0;31mKeyError\u001b[0m: 'subclass'",
      "\nThe above exception was the direct cause of the following exception:\n",
      "\u001b[0;31mKeyError\u001b[0m                                  Traceback (most recent call last)",
      "\u001b[0;32m<ipython-input-5-b0c15e2b0aac>\u001b[0m in \u001b[0;36m<module>\u001b[0;34m\u001b[0m\n\u001b[1;32m      1\u001b[0m \u001b[0;32mfor\u001b[0m \u001b[0msubclass\u001b[0m \u001b[0;32min\u001b[0m \u001b[0;34m[\u001b[0m\u001b[0;34m'r'\u001b[0m\u001b[0;34m,\u001b[0m \u001b[0;34m'e'\u001b[0m\u001b[0;34m,\u001b[0m \u001b[0;34m'l'\u001b[0m\u001b[0;34m,\u001b[0m \u001b[0;34m'h'\u001b[0m\u001b[0;34m,\u001b[0m \u001b[0;34m't'\u001b[0m\u001b[0;34m]\u001b[0m\u001b[0;34m:\u001b[0m\u001b[0;34m\u001b[0m\u001b[0;34m\u001b[0m\u001b[0m\n\u001b[0;32m----> 2\u001b[0;31m     \u001b[0mdf\u001b[0m \u001b[0;34m=\u001b[0m \u001b[0mMBWH_Z\u001b[0m\u001b[0;34m[\u001b[0m\u001b[0mMBWH_Z\u001b[0m\u001b[0;34m[\u001b[0m\u001b[0;34m'subclass'\u001b[0m\u001b[0;34m]\u001b[0m\u001b[0;34m==\u001b[0m\u001b[0msubclass\u001b[0m\u001b[0;34m]\u001b[0m\u001b[0;34m\u001b[0m\u001b[0;34m\u001b[0m\u001b[0m\n\u001b[0m\u001b[1;32m      3\u001b[0m     \u001b[0mdf2\u001b[0m \u001b[0;34m=\u001b[0m \u001b[0mdf\u001b[0m\u001b[0;34m[\u001b[0m\u001b[0;34m'bw_min'\u001b[0m\u001b[0;34m,\u001b[0m \u001b[0;34m'peakf'\u001b[0m\u001b[0;34m,\u001b[0m \u001b[0;34m'bw_max'\u001b[0m\u001b[0;34m,\u001b[0m \u001b[0;34m'medianf'\u001b[0m\u001b[0;34m,\u001b[0m \u001b[0;34m'bandratio_[1.0-6.0,6.0-11.0]'\u001b[0m\u001b[0;34m,\u001b[0m \u001b[0;34m'bandratio_[0.8_4.0_16.0]'\u001b[0m\u001b[0;34m]\u001b[0m\u001b[0;34m\u001b[0m\u001b[0;34m\u001b[0m\u001b[0m\n\u001b[1;32m      4\u001b[0m     \u001b[0mprint\u001b[0m\u001b[0;34m(\u001b[0m\u001b[0mdf2\u001b[0m\u001b[0;34m.\u001b[0m\u001b[0mdescribe\u001b[0m\u001b[0;34m(\u001b[0m\u001b[0;34m)\u001b[0m\u001b[0;34m)\u001b[0m\u001b[0;34m\u001b[0m\u001b[0;34m\u001b[0m\u001b[0m\n",
      "\u001b[0;32m~/miniconda3/envs/AAA/lib/python3.8/site-packages/pandas/core/frame.py\u001b[0m in \u001b[0;36m__getitem__\u001b[0;34m(self, key)\u001b[0m\n\u001b[1;32m   3022\u001b[0m             \u001b[0;32mif\u001b[0m \u001b[0mself\u001b[0m\u001b[0;34m.\u001b[0m\u001b[0mcolumns\u001b[0m\u001b[0;34m.\u001b[0m\u001b[0mnlevels\u001b[0m \u001b[0;34m>\u001b[0m \u001b[0;36m1\u001b[0m\u001b[0;34m:\u001b[0m\u001b[0;34m\u001b[0m\u001b[0;34m\u001b[0m\u001b[0m\n\u001b[1;32m   3023\u001b[0m                 \u001b[0;32mreturn\u001b[0m \u001b[0mself\u001b[0m\u001b[0;34m.\u001b[0m\u001b[0m_getitem_multilevel\u001b[0m\u001b[0;34m(\u001b[0m\u001b[0mkey\u001b[0m\u001b[0;34m)\u001b[0m\u001b[0;34m\u001b[0m\u001b[0;34m\u001b[0m\u001b[0m\n\u001b[0;32m-> 3024\u001b[0;31m             \u001b[0mindexer\u001b[0m \u001b[0;34m=\u001b[0m \u001b[0mself\u001b[0m\u001b[0;34m.\u001b[0m\u001b[0mcolumns\u001b[0m\u001b[0;34m.\u001b[0m\u001b[0mget_loc\u001b[0m\u001b[0;34m(\u001b[0m\u001b[0mkey\u001b[0m\u001b[0;34m)\u001b[0m\u001b[0;34m\u001b[0m\u001b[0;34m\u001b[0m\u001b[0m\n\u001b[0m\u001b[1;32m   3025\u001b[0m             \u001b[0;32mif\u001b[0m \u001b[0mis_integer\u001b[0m\u001b[0;34m(\u001b[0m\u001b[0mindexer\u001b[0m\u001b[0;34m)\u001b[0m\u001b[0;34m:\u001b[0m\u001b[0;34m\u001b[0m\u001b[0;34m\u001b[0m\u001b[0m\n\u001b[1;32m   3026\u001b[0m                 \u001b[0mindexer\u001b[0m \u001b[0;34m=\u001b[0m \u001b[0;34m[\u001b[0m\u001b[0mindexer\u001b[0m\u001b[0;34m]\u001b[0m\u001b[0;34m\u001b[0m\u001b[0;34m\u001b[0m\u001b[0m\n",
      "\u001b[0;32m~/miniconda3/envs/AAA/lib/python3.8/site-packages/pandas/core/indexes/base.py\u001b[0m in \u001b[0;36mget_loc\u001b[0;34m(self, key, method, tolerance)\u001b[0m\n\u001b[1;32m   3080\u001b[0m                 \u001b[0;32mreturn\u001b[0m \u001b[0mself\u001b[0m\u001b[0;34m.\u001b[0m\u001b[0m_engine\u001b[0m\u001b[0;34m.\u001b[0m\u001b[0mget_loc\u001b[0m\u001b[0;34m(\u001b[0m\u001b[0mcasted_key\u001b[0m\u001b[0;34m)\u001b[0m\u001b[0;34m\u001b[0m\u001b[0;34m\u001b[0m\u001b[0m\n\u001b[1;32m   3081\u001b[0m             \u001b[0;32mexcept\u001b[0m \u001b[0mKeyError\u001b[0m \u001b[0;32mas\u001b[0m \u001b[0merr\u001b[0m\u001b[0;34m:\u001b[0m\u001b[0;34m\u001b[0m\u001b[0;34m\u001b[0m\u001b[0m\n\u001b[0;32m-> 3082\u001b[0;31m                 \u001b[0;32mraise\u001b[0m \u001b[0mKeyError\u001b[0m\u001b[0;34m(\u001b[0m\u001b[0mkey\u001b[0m\u001b[0;34m)\u001b[0m \u001b[0;32mfrom\u001b[0m \u001b[0merr\u001b[0m\u001b[0;34m\u001b[0m\u001b[0;34m\u001b[0m\u001b[0m\n\u001b[0m\u001b[1;32m   3083\u001b[0m \u001b[0;34m\u001b[0m\u001b[0m\n\u001b[1;32m   3084\u001b[0m         \u001b[0;32mif\u001b[0m \u001b[0mtolerance\u001b[0m \u001b[0;32mis\u001b[0m \u001b[0;32mnot\u001b[0m \u001b[0;32mNone\u001b[0m\u001b[0;34m:\u001b[0m\u001b[0;34m\u001b[0m\u001b[0;34m\u001b[0m\u001b[0m\n",
      "\u001b[0;31mKeyError\u001b[0m: 'subclass'"
     ]
    }
   ],
   "source": [
    "for subclass in ['r', 'e', 'l', 'h', 't']:\n",
    "    df = MBWH_Z[MBWH_Z['subclass']==subclass]\n",
    "    df2 = df['bw_min', 'peakf', 'bw_max', 'medianf', 'bandratio_[1.0-6.0,6.0-11.0]', 'bandratio_[0.8_4.0_16.0]']\n",
    "    print(df2.describe())"
   ]
  },
  {
   "cell_type": "code",
   "execution_count": null,
   "metadata": {},
   "outputs": [],
   "source": []
  }
 ],
 "metadata": {
  "kernelspec": {
   "display_name": "Python 3",
   "language": "python",
   "name": "python3"
  },
  "language_info": {
   "codemirror_mode": {
    "name": "ipython",
    "version": 3
   },
   "file_extension": ".py",
   "mimetype": "text/x-python",
   "name": "python",
   "nbconvert_exporter": "python",
   "pygments_lexer": "ipython3",
   "version": "3.7.9"
  }
 },
 "nbformat": 4,
 "nbformat_minor": 4
}
