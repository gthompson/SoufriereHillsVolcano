{
 "cells": [
  {
   "cell_type": "code",
   "execution_count": null,
   "id": "massive-former",
   "metadata": {},
   "outputs": [],
   "source": [
    "import os, sys\n",
    "import pandas as pd\n",
    "LIBpath = os.path.join( os.getenv('HOME'),'src','kitchensinkGT', 'LIB')\n",
    "sys.path.append(LIBpath)\n",
    "from libMVO import correct_nslc\n",
    "from obspy.core import read\n",
    "df0 = pd.read_csv('../CSVfiles/02_index_wavfile_original_traceID_till_2004_01_fixed.csv') # 2 cols\n",
    "df = pd.read_csv('02_index_wavfile_original_traceID.csv',index_col=False)\n",
    "\n",
    "\n",
    "\"\"\"\n",
    "# change/test correct_nslc and see if newID different than corrected_id\n",
    "df['newID'] = ''  \n",
    "for i,row in df.iterrows():\n",
    "    df.loc[i,'newID']=correct_nslc(row['original_id'], 75.0)\n",
    "df2 = df[['original_id','corrected_id','newID']].drop_duplicates()\n",
    "df2.reset_index(inplace=True,drop=True)\n",
    "\"\"\"\n",
    "\n",
    "df0.append(df)\n",
    "df0.drop_duplicates(inplace=True)\n",
    "df0.sort_values(by=['original_id'],inplace=True)\n",
    "#df0.reset_index(inplace=True,drop=True)\n",
    "#df0[['original_id','corrected_id']].to_csv('../CSVfiles/02_index_wavfile_original_traceID.csv',index=False)\n",
    "df0[['original_id','corrected_id']].to_csv('../CSVfiles/02_index_wavfile_original_traceID_till_2004_01_fixed.csv',index=False)"
   ]
  },
  {
   "cell_type": "code",
   "execution_count": null,
   "id": "permanent-anaheim",
   "metadata": {
    "scrolled": false
   },
   "outputs": [],
   "source": [
    "# look for any original_id with DUM in it\n",
    "from obspy.core import Stream\n",
    "wavs = []\n",
    "for i, row in df.iterrows():\n",
    "    if 'DUM' in row['original_id']:\n",
    "        wavs.append(row['wav'])\n",
    "for wav in list(set(wavs)):        \n",
    "    st = read(wav)\n",
    "    stdum = Stream()\n",
    "    for tr in st:\n",
    "        if 'DUM' in tr.id or 'MBLG' in tr.id:\n",
    "            stdum.append(tr)\n",
    "            print(tr.id, tr.stats.sampling_rate)\n",
    "    stdum.plot(equal_scale=False);"
   ]
  },
  {
   "cell_type": "code",
   "execution_count": null,
   "id": "ceramic-fashion",
   "metadata": {},
   "outputs": [],
   "source": [
    "# look for any original_id with DUM in it\n",
    "from obspy.core import Stream\n",
    "wavs = []\n",
    "for i, row in df.iterrows():\n",
    "    if 'GUR' in row['original_id']:\n",
    "        wavs.append(row['wav'])\n",
    "for wav in list(set(wavs)):        \n",
    "    st = read(wav)\n",
    "    stdum = Stream()\n",
    "    for tr in st:\n",
    "        if 'GUR' in tr.id:\n",
    "            stdum.append(tr)\n",
    "    stdum.plot(equal_scale=False);"
   ]
  },
  {
   "cell_type": "code",
   "execution_count": null,
   "id": "moved-stick",
   "metadata": {},
   "outputs": [],
   "source": [
    "\n",
    "# look for any original_id with DUM in it\n",
    "from obspy.core import Stream\n",
    "wavs = []\n",
    "for i, row in df.iterrows():\n",
    "    if 'MBBE.I' in row['original_id']:\n",
    "        wavs.append(row['wav'])\n",
    "for wav in list(set(wavs)):        \n",
    "    st = read(wav)\n",
    "    stdum = Stream()\n",
    "    for tr in st:\n",
    "        if 'MBBE.I' in tr.id:\n",
    "            stdum.append(tr)\n",
    "    stdum.plot(equal_scale=False);"
   ]
  },
  {
   "cell_type": "code",
   "execution_count": null,
   "id": "lyric-exemption",
   "metadata": {},
   "outputs": [],
   "source": []
  }
 ],
 "metadata": {
  "kernelspec": {
   "display_name": "Python 3",
   "language": "python",
   "name": "python3"
  },
  "language_info": {
   "codemirror_mode": {
    "name": "ipython",
    "version": 3
   },
   "file_extension": ".py",
   "mimetype": "text/x-python",
   "name": "python",
   "nbconvert_exporter": "python",
   "pygments_lexer": "ipython3",
   "version": "3.7.9"
  }
 },
 "nbformat": 4,
 "nbformat_minor": 5
}
