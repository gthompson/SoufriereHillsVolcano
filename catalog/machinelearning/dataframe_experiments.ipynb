{
 "cells": [
  {
   "cell_type": "code",
   "execution_count": null,
   "id": "outstanding-vector",
   "metadata": {},
   "outputs": [],
   "source": [
    "import os\n",
    "import pandas as pd\n",
    "SEISAN_DATA = os.path.join( os.getenv('HOME'),'DATA','MVO') # e.g. /home/user/seismo\n",
    "SEISAN_DB = 'MVOE_' # e.g. the seisan database name (e.g. MVOE_) under /home/user/seismo/WAV and /home/user/seismo/REA\n",
    "AAA_DATA_DIR = os.path.join(SEISAN_DATA, 'MachineLearning', SEISAN_DB) # e.g. /home/user/seismo/MachineLearning/MVOE_\n",
    "master_event_catalog = os.path.join(AAA_DATA_DIR, 'labelling', '%scatalog.csv' % SEISAN_DB)\n",
    "dfall = pd.read_csv(master_event_catalog) \n",
    "\n",
    "# subset and order columns\n",
    "correct_columns = ['filetime', 'path', 'sfile', 'num_traces', 'Fs', 'calib', \n",
    "                   'subclass', 'new_subclass', 'quality', 'weight',\n",
    "                   'checked', 'split', 'delete', 'ignore',\n",
    "                   'D', 'R', 'r', 'e', 'l', 'h', 't',\n",
    "                   'year', 'month', 'day', 'hour', 'minute', 'second',\n",
    "                   'peaktime', 'peakA', 'peakamp', 'energy',\n",
    "                   'signal_level', 'noise_level', 'snr',\n",
    "                   'peakF', 'medianF', 'bandratio_[0.8_4.0_16.0]', 'bandratio_[1.0_6.0_11.0]', 'bw_max', 'bw_min',\n",
    "                   'sample_min', 'sample_max', 'sample_mean',\n",
    "                   'sample_rms', 'sample_stdev',\n",
    "                   'sample_lower_quartile', 'sample_median', 'sample_upper_quartile',\n",
    "                   'kurtosis', 'skewness',\n",
    "                   'num_gaps', 'percent_availability',                   \n",
    "                   'trigger_duration', 'ontime', 'offtime', \n",
    "                   'cft_peak_wmean', 'cft_std_wmean', 'coincidence_sum',\n",
    "                   'detection_quality'] # removed starttime\n",
    "dfall = dfall[correct_columns] # subset to correct columns\n",
    "dfall.set_index('path', inplace=True) # try this\n",
    "dfall.sort_index(inplace=True)   \n",
    "dfall.head()"
   ]
  },
  {
   "cell_type": "code",
   "execution_count": null,
   "id": "copyrighted-marking",
   "metadata": {},
   "outputs": [],
   "source": [
    "dfall.reset_index()\n",
    "#dfall['path'] = dfall.index\n",
    "dfall.head()"
   ]
  },
  {
   "cell_type": "code",
   "execution_count": null,
   "id": "intelligent-opportunity",
   "metadata": {},
   "outputs": [],
   "source": [
    "thiswav = dfall.index[0]\n",
    "print(thiswav)\n",
    "\n",
    "dfall.loc[thiswav, 'num_traces'] = 62\n",
    "\n",
    "dfall.head()"
   ]
  },
  {
   "cell_type": "code",
   "execution_count": null,
   "id": "automotive-institute",
   "metadata": {},
   "outputs": [],
   "source": [
    "dfall.iat[4,3]=77"
   ]
  },
  {
   "cell_type": "code",
   "execution_count": null,
   "id": "difficult-sunglasses",
   "metadata": {},
   "outputs": [],
   "source": [
    "dfall.head()"
   ]
  },
  {
   "cell_type": "code",
   "execution_count": null,
   "id": "pretty-velvet",
   "metadata": {},
   "outputs": [],
   "source": [
    "dfall.iloc[2]['Fs']=99.0\n",
    "dfall.head()"
   ]
  },
  {
   "cell_type": "code",
   "execution_count": null,
   "id": "alternative-isolation",
   "metadata": {},
   "outputs": [],
   "source": [
    "dfall.loc[[2,4],'Fs']=95.0\n",
    "dfall.head()"
   ]
  },
  {
   "cell_type": "code",
   "execution_count": null,
   "id": "mature-knowing",
   "metadata": {},
   "outputs": [],
   "source": [
    "dfall.iat[2,6]=2.0\n",
    "dfall.head()"
   ]
  },
  {
   "cell_type": "code",
   "execution_count": null,
   "id": "driven-immunology",
   "metadata": {},
   "outputs": [],
   "source": [
    "dfall.at[0,'subclass']='M'\n",
    "dfall.head()"
   ]
  },
  {
   "cell_type": "code",
   "execution_count": null,
   "id": "characteristic-literacy",
   "metadata": {},
   "outputs": [],
   "source": [
    "dfall.loc[0,'subclass']='p'\n",
    "dfall.head()"
   ]
  },
  {
   "cell_type": "code",
   "execution_count": null,
   "id": "light-standard",
   "metadata": {},
   "outputs": [],
   "source": [
    "dfall.iloc[1,6]='V'\n",
    "dfall.head()"
   ]
  }
 ],
 "metadata": {
  "kernelspec": {
   "display_name": "Python 3",
   "language": "python",
   "name": "python3"
  },
  "language_info": {
   "codemirror_mode": {
    "name": "ipython",
    "version": 3
   },
   "file_extension": ".py",
   "mimetype": "text/x-python",
   "name": "python",
   "nbconvert_exporter": "python",
   "pygments_lexer": "ipython3",
   "version": "3.7.9"
  }
 },
 "nbformat": 4,
 "nbformat_minor": 5
}
