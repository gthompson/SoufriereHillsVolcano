{
 "cells": [
  {
   "cell_type": "markdown",
   "metadata": {},
   "source": [
    "# calfiles2stationxml\n",
    "\n",
    "\n",
    "# CONVERT RESP FILES TO STATION XML\n",
    "\n",
    "This part was written as a one-off to convert RESP files to Station XML files. \n",
    "I ended up writing a bunch of library functions to make this happen."
   ]
  },
  {
   "cell_type": "code",
   "execution_count": null,
   "metadata": {},
   "outputs": [],
   "source": [
    "import os,sys\n",
    "sys.path.append('/Users/thompsong/src/kitchensinkGT/LIB/seisanDBtools')\n",
    "from seisanDBwrappers import resp2stationxml\n",
    "SEISAN_DATA = '%s/DATA/MVO' % os.getenv('HOME')\n",
    "resp2stationxml(SEISAN_DATA)"
   ]
  },
  {
   "cell_type": "markdown",
   "metadata": {},
   "source": [
    "After this I had to do things like:\n",
    "    \n",
    "    cat station.MN.MBWH*xml > station.MV.MBWH.xml\n",
    "    \n",
    "Then with vi, remove the parts between each channel section (normally had to remove either 9 or 18 lines between each)\n",
    "\n",
    "Then we ended up with files like station.MV.STATION_CODE.xml\n",
    "\n",
    "Unfortunately it looks like I merged the files incorrectly, as they do not load."
   ]
  },
  {
   "cell_type": "code",
   "execution_count": null,
   "metadata": {},
   "outputs": [],
   "source": [
    "# Trying to read a station XML file I manually merged. It loads. But can it be used to remove response? \n",
    "# I think it failed when I tried.\n",
    "from obspy import read_inventory\n",
    "inv = read_inventory('/Users/thompsong/DATA/MVO/CAL/station.MV.MBWH.xml')\n",
    "print(inv)\n",
    "# Add code here to try to remove response"
   ]
  },
  {
   "cell_type": "code",
   "execution_count": null,
   "metadata": {},
   "outputs": [],
   "source": [
    "# Trying to convert some files Andy Lockhart sent\n",
    "from obspy import read, read_inventory, Stream\n",
    "from obspy.io.xseed.core import _read_resp\n",
    "caldir = os.path.join(SEISAN_DATA, 'CAL')\n",
    "respfile = '/Users/thompsong/Downloads/PUSZ_VEL.2021-07-13-0000_SEI'\n",
    "#respfile = '/Users/thompsong/Downloads/PUSZ_EH_Z.2021-07-13-0000_SEI'\n",
    "this_inv = _read_resp(respfile)\n",
    "print(this_inv)"
   ]
  },
  {
   "cell_type": "code",
   "execution_count": null,
   "metadata": {},
   "outputs": [],
   "source": []
  }
 ],
 "metadata": {
  "kernelspec": {
   "display_name": "Python 3 (ipykernel)",
   "language": "python",
   "name": "python3"
  },
  "language_info": {
   "codemirror_mode": {
    "name": "ipython",
    "version": 3
   },
   "file_extension": ".py",
   "mimetype": "text/x-python",
   "name": "python",
   "nbconvert_exporter": "python",
   "pygments_lexer": "ipython3",
   "version": "3.11.8"
  }
 },
 "nbformat": 4,
 "nbformat_minor": 4
}
