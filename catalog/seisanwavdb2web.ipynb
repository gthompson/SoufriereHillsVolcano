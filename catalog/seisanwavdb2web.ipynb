{
 "cells": [
  {
   "cell_type": "markdown",
   "metadata": {},
   "source": [
    "# seisanwavdb2web\n",
    "\n",
    "Last update: Glenn Thompson 2021/07/09\n",
    "\n",
    "We are working here from the WAV files in Seisan. \n",
    "We ideally need a process that checks for REA files that exist without corresponding WAV files too.\n",
    "\n",
    "Plus we might want to build a version of this from an Antelope catalog.\n",
    "\n",
    "st.select(): A new Stream object is returned but the traces it contains are just aliases to the traces of the original stream. Does not copy the data but only passes a reference. So I guess if you change a trace, it changes the same way in both streams! Dangerous! So think of Stream as just a container for Trace objects and each Stream can references same Traces.\n",
    "\n",
    "WHAT WE ARE REALLY BUILDING IS A FULL SET OF TOOLS FOR EXAMINING VOLCANO-SEISMIC EARTHQUAKES\n",
    "\n",
    "THIS SHOULD COMPLEMENT ICEWEB, WHICH IS THE ENGINE TO DO SIMILAR THINGS FOR CONTINUOUS DATA\n",
    "(For that, need to add RSAM, DRS)\n",
    "\n",
    "\n",
    "## Done\n",
    "1. I have a full workflow for WAV files.\n",
    "\n",
    "## To do:\n",
    "\n",
    "1. Add coordinates to stationXML files.\n",
    "2. Combine stationXML files?\n",
    "3. Add coordinates and distances to tr objects. See Haiti EQ codes for how I did this.\n",
    "4. Compute reduced displacement/pressure.\n",
    "5. Compute seismic/infrasound energy after Johnson and Aster, 2005.\n",
    "6. Convert to equivalent magnitude. Examine previous mag2eng scales used in MATLAB, and the formulae used for my SpaceXplosion poster.\n",
    "7. Convert Seisan FAP CAL files to stationXML. Felix provided a path with Seisan and 3rd party tools, but is there an ObsPy solution?\n",
    "8. Build REA workflow.\n",
    "9. Improve the website function.\n",
    "10. Build find best events workflow.\n",
    "11. add plots of amplitude and energy via subclass.\n",
    "12. add sausage plot functionality. for montserrat, columns could wrap since only one volcano.\n",
    "13. convert detected network events into ObsPy Catalog objects.\n",
    "14. implement ObsPy ar_pick to identify P and S waves.\n",
    "15. implement swarm alarm.\n",
    "16. find out what metrics I lost: e.g. kurtosis, ...\n",
    "17. implement 3-D polarization plots and spectrograms\n",
    "18. implement ESAM spectrograms (should be able to subclass)\n",
    "19. R&D workflow to auto-classify based on distribution of event (or trace) metrics."
   ]
  },
  {
   "cell_type": "code",
   "execution_count": null,
   "metadata": {},
   "outputs": [],
   "source": [
    "import os\n",
    "import sys\n",
    "from glob import glob\n",
    "LIBpath = os.path.join( os.getenv('HOME'),'src','kitchensinkGT', 'LIB')\n",
    "sys.path.append(os.path.join(LIBpath, 'seisanDBtools'))\n",
    "from seisanDBwrappers import processWAVfiles\n",
    "import time\n",
    "startTime = time.time()\n",
    "\n",
    "#SEISAN_DATA = '%s/DATA/MVO' % os.getenv('HOME')\n",
    "SEISAN_DATA = '/Volumes/LaCie/DATA/MVO'\n",
    "os.chdir(SEISAN_DATA)\n",
    "'''\n",
    "DB = 'MVOE_'\n",
    "YYYY = '2005'\n",
    "MM = '05'\n",
    "'''\n",
    "MAXFILES = 99999\n",
    "#years = sorted(glob(os.path.join(SEISAN_DATA, 'WAV', DB, '[12]???')))\n",
    "yeardirs = sorted(glob(os.path.join(SEISAN_DATA, 'WAV', DB, '200[0123456]')))\n",
    "for yeardir in yeardirs:\n",
    "    YYYY = os.path.basename(yeardir)\n",
    "    monthdirs = sorted(glob(os.path.join(yeardir, '??')))\n",
    "    for monthdir in monthdirs:\n",
    "        MM = os.path.basename(monthdir)\n",
    "        processWAVfiles(SEISAN_DATA, DB, YYYY, MM, MAXFILES=MAXFILES)\n",
    "\n",
    "executionTime = (time.time() - startTime)\n",
    "print('Execution time in seconds: ' + str(executionTime))\n",
    "print('Average execution time: ' + str(executionTime/MAXFILES))"
   ]
  },
  {
   "cell_type": "code",
   "execution_count": null,
   "metadata": {},
   "outputs": [],
   "source": [
    "import os\n",
    "import sys\n",
    "LIBpath = os.path.join( os.getenv('HOME'),'src','kitchensinkGT', 'LIB')\n",
    "sys.path.append(os.path.join(LIBpath, 'seisanDBtools'))\n",
    "from seisanDBwrappers import summarize_each_event\n",
    "SEISAN_DATA = '/Volumes/LaCie/DATA/MVO'\n",
    "os.chdir(SEISAN_DATA)\n",
    "DB = 'MVOE_'\n",
    "YYYY = '2005'\n",
    "MM = '05'\n",
    "summarize_each_event(SEISAN_DATA, DB, YYYY, MM)"
   ]
  },
  {
   "cell_type": "code",
   "execution_count": null,
   "metadata": {},
   "outputs": [],
   "source": []
  }
 ],
 "metadata": {
  "kernelspec": {
   "display_name": "Python 3",
   "language": "python",
   "name": "python3"
  },
  "language_info": {
   "codemirror_mode": {
    "name": "ipython",
    "version": 3
   },
   "file_extension": ".py",
   "mimetype": "text/x-python",
   "name": "python",
   "nbconvert_exporter": "python",
   "pygments_lexer": "ipython3",
   "version": "3.6.7"
  }
 },
 "nbformat": 4,
 "nbformat_minor": 4
}
