{
 "cells": [
  {
   "cell_type": "markdown",
   "metadata": {},
   "source": [
    "Purpose:\n",
    "-----------\n",
    "Traverse a Seisan database structure by REA/year/month, find all the S-files and corresponding WAV files, and generate a summary line for each trace.\n",
    "Will generate nothing for an Sfile for which no corresponding WAVfile found\n",
    "Output files are like DBNAMEcatalogYYYYMM.csv\n",
    "\n",
    "This notebook is a wrapper to run the \"generate_monthly_csv\" method of the Seisan_Catalog class\n",
    "\n",
    "The CSV files are written into the parent directory of the path stored in the SEISAN_DATA environment variable\n",
    "SEISAN_DATA is the parent of the WAV and REA directories, e.g. /Users/USERNAME/montserrat_data/seismo\n",
    "So in this case, the CSV files would be written to /Users/USERNAME/montserrat_data/\n",
    "The default database is \"MVOE_\", so the CSV files are named like MVOE_catalogYYYYMM.CSV\n",
    "\n",
    "If a CSV already exists, it will not be overwritten. So if you want them to be overwritten, \n",
    "delete them before running this"
   ]
  },
  {
   "cell_type": "markdown",
   "metadata": {},
   "source": [
    "Step 1: Setup the environment, and import libraries"
   ]
  },
  {
   "cell_type": "code",
   "execution_count": 2,
   "metadata": {},
   "outputs": [],
   "source": [
    "import sys, glob, os\n",
    "import Seisan_Catalog\n",
    "SEISAN_DATA = os.environ[\"SEISAN_DATA\"]\n",
    "SEISAN_DB = 'MVOE_'\n",
    "os.chdir(os.path.dirname(SEISAN_DATA))"
   ]
  },
  {
   "cell_type": "markdown",
   "metadata": {},
   "source": [
    "Step 2: Look for YYYY/MM directories and loop over them, calling the generate_monthly_csv() method"
   ]
  },
  {
   "cell_type": "code",
   "execution_count": 3,
   "metadata": {},
   "outputs": [
    {
     "name": "stdout",
     "output_type": "stream",
     "text": [
      "Reading /Users/thompsong/Desktop/IPGP_Thompson_collaboration/data/seismo/REA/MVOE_/2005/01\n",
      "...Creating MVOE_catalog200501.csv\n",
      "CSV file MVOE_catalog200501.csv already exists. Not overwriting. If you want to overwrite then please delete from the command line\n",
      "Reading /Users/thompsong/Desktop/IPGP_Thompson_collaboration/data/seismo/REA/MVOE_/2005/02\n",
      "...Creating MVOE_catalog200502.csv\n",
      "CSV file MVOE_catalog200502.csv already exists. Not overwriting. If you want to overwrite then please delete from the command line\n",
      "Reading /Users/thompsong/Desktop/IPGP_Thompson_collaboration/data/seismo/REA/MVOE_/2005/03\n",
      "...Creating MVOE_catalog200503.csv\n",
      "CSV file MVOE_catalog200503.csv already exists. Not overwriting. If you want to overwrite then please delete from the command line\n",
      "Reading /Users/thompsong/Desktop/IPGP_Thompson_collaboration/data/seismo/REA/MVOE_/2005/04\n",
      "...Creating MVOE_catalog200504.csv\n",
      "CSV file MVOE_catalog200504.csv already exists. Not overwriting. If you want to overwrite then please delete from the command line\n",
      "Reading /Users/thompsong/Desktop/IPGP_Thompson_collaboration/data/seismo/REA/MVOE_/2005/05\n",
      "...Creating MVOE_catalog200505.csv\n",
      "CSV file MVOE_catalog200505.csv already exists. Not overwriting. If you want to overwrite then please delete from the command line\n",
      "Reading /Users/thompsong/Desktop/IPGP_Thompson_collaboration/data/seismo/REA/MVOE_/2005/06\n",
      "...Creating MVOE_catalog200506.csv\n",
      "CSV file MVOE_catalog200506.csv already exists. Not overwriting. If you want to overwrite then please delete from the command line\n",
      "Reading /Users/thompsong/Desktop/IPGP_Thompson_collaboration/data/seismo/REA/MVOE_/2005/07\n",
      "...Creating MVOE_catalog200507.csv\n",
      "CSV file MVOE_catalog200507.csv already exists. Not overwriting. If you want to overwrite then please delete from the command line\n",
      "Reading /Users/thompsong/Desktop/IPGP_Thompson_collaboration/data/seismo/REA/MVOE_/2005/08\n",
      "...Creating MVOE_catalog200508.csv\n",
      "CSV file MVOE_catalog200508.csv already exists. Not overwriting. If you want to overwrite then please delete from the command line\n",
      "Reading /Users/thompsong/Desktop/IPGP_Thompson_collaboration/data/seismo/REA/MVOE_/2005/09\n",
      "...Creating MVOE_catalog200509.csv\n",
      "CSV file MVOE_catalog200509.csv already exists. Not overwriting. If you want to overwrite then please delete from the command line\n",
      "Reading /Users/thompsong/Desktop/IPGP_Thompson_collaboration/data/seismo/REA/MVOE_/2005/10\n",
      "...Creating MVOE_catalog200510.csv\n",
      "CSV file MVOE_catalog200510.csv already exists. Not overwriting. If you want to overwrite then please delete from the command line\n",
      "Reading /Users/thompsong/Desktop/IPGP_Thompson_collaboration/data/seismo/REA/MVOE_/2005/11\n",
      "...Creating MVOE_catalog200511.csv\n",
      "CSV file MVOE_catalog200511.csv already exists. Not overwriting. If you want to overwrite then please delete from the command line\n",
      "Reading /Users/thompsong/Desktop/IPGP_Thompson_collaboration/data/seismo/REA/MVOE_/2005/12\n",
      "...Creating MVOE_catalog200512.csv\n",
      "CSV file MVOE_catalog200512.csv already exists. Not overwriting. If you want to overwrite then please delete from the command line\n",
      "Reading /Users/thompsong/Desktop/IPGP_Thompson_collaboration/data/seismo/REA/MVOE_/2006/01\n",
      "...Creating MVOE_catalog200601.csv\n",
      "CSV file MVOE_catalog200601.csv already exists. Not overwriting. If you want to overwrite then please delete from the command line\n",
      "Reading /Users/thompsong/Desktop/IPGP_Thompson_collaboration/data/seismo/REA/MVOE_/2006/02\n",
      "...Creating MVOE_catalog200602.csv\n",
      "CSV file MVOE_catalog200602.csv already exists. Not overwriting. If you want to overwrite then please delete from the command line\n",
      "Reading /Users/thompsong/Desktop/IPGP_Thompson_collaboration/data/seismo/REA/MVOE_/2006/03\n",
      "...Creating MVOE_catalog200603.csv\n",
      "CSV file MVOE_catalog200603.csv already exists. Not overwriting. If you want to overwrite then please delete from the command line\n",
      "Reading /Users/thompsong/Desktop/IPGP_Thompson_collaboration/data/seismo/REA/MVOE_/2006/04\n",
      "...Creating MVOE_catalog200604.csv\n",
      "CSV file MVOE_catalog200604.csv already exists. Not overwriting. If you want to overwrite then please delete from the command line\n",
      "Reading /Users/thompsong/Desktop/IPGP_Thompson_collaboration/data/seismo/REA/MVOE_/2006/05\n",
      "...Creating MVOE_catalog200605.csv\n",
      "CSV file MVOE_catalog200605.csv already exists. Not overwriting. If you want to overwrite then please delete from the command line\n",
      "Reading /Users/thompsong/Desktop/IPGP_Thompson_collaboration/data/seismo/REA/MVOE_/2006/06\n",
      "...Creating MVOE_catalog200606.csv\n",
      "CSV file MVOE_catalog200606.csv already exists. Not overwriting. If you want to overwrite then please delete from the command line\n"
     ]
    }
   ],
   "source": [
    "yyyylist = sorted(glob.glob(os.path.join(SEISAN_DATA, 'REA', SEISAN_DB, '????')))\n",
    "for yyyy in yyyylist:\n",
    "    mmlist = sorted(glob.glob(os.path.join(yyyy, '??')))\n",
    "    for mm in mmlist:\n",
    "        Seisan_Catalog.generate_monthly_csv(mm)"
   ]
  },
  {
   "cell_type": "code",
   "execution_count": null,
   "metadata": {},
   "outputs": [],
   "source": []
  }
 ],
 "metadata": {
  "kernelspec": {
   "display_name": "Python 3",
   "language": "python",
   "name": "python3"
  },
  "language_info": {
   "codemirror_mode": {
    "name": "ipython",
    "version": 3
   },
   "file_extension": ".py",
   "mimetype": "text/x-python",
   "name": "python",
   "nbconvert_exporter": "python",
   "pygments_lexer": "ipython3",
   "version": "3.7.0"
  }
 },
 "nbformat": 4,
 "nbformat_minor": 2
}
