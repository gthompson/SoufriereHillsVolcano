{
 "cells": [
  {
   "cell_type": "code",
   "execution_count": 10,
   "metadata": {},
   "outputs": [],
   "source": [
    "import pandas as pd\n",
    "import csv\n",
    "import obspy\n",
    "import matplotlib.pyplot as plt\n",
    "import numpy as np\n",
    "import os\n",
    "import glob\n",
    "csvfile = '/Users/thompsong/station_onness_SIMPLE.csv'\n",
    "df = pd.read_csv(csvfile)"
   ]
  },
  {
   "cell_type": "code",
   "execution_count": 22,
   "metadata": {},
   "outputs": [
    {
     "name": "stdout",
     "output_type": "stream",
     "text": [
      "[[ 1.  0.  0. ...,  1.  0.  1.]\n",
      " [ 1.  0.  0. ...,  1.  0.  1.]\n",
      " [ 1.  0.  0. ...,  1.  0.  1.]\n",
      " ..., \n",
      " [ 0.  1.  1. ...,  1.  0.  1.]\n",
      " [ 0.  1.  1. ...,  1.  0.  1.]\n",
      " [ 0.  1.  1. ...,  1.  0.  1.]]\n"
     ]
    },
    {
     "data": {
      "text/plain": [
       "(134, 16)"
      ]
     },
     "execution_count": 22,
     "metadata": {},
     "output_type": "execute_result"
    }
   ],
   "source": [
    "df = df.fillna(0)\n",
    "df = df.replace('1',1)\n",
    "#print(df)\n",
    "#fig = plt.figure()\n",
    "#ax = fig.add_subplot(111)\n",
    "data = df.to_numpy()\n",
    "data = np.nan_to_num(data)\n",
    "print(data)\n",
    "data.shape\n",
    "\n",
    "#"
   ]
  },
  {
   "cell_type": "code",
   "execution_count": 35,
   "metadata": {},
   "outputs": [
    {
     "data": {
      "image/png": "[encoded data removed]",
      "text/plain": [
       "<Figure size 432x288 with 1 Axes>"
      ]
     },
     "metadata": {
      "needs_background": "light"
     },
     "output_type": "display_data"
    }
   ],
   "source": [
    "fig = plt.figure()\n",
    "ax = fig.add_subplot(111)\n",
    "ax.imshow(data, aspect='auto', cmap=plt.cm.gray, interpolation='nearest')\n",
    "xticklabels = ('MBBE','MBBY','MBFL','MBFR','MBGA','MBGB','MBGE','MBGH','MBHA','MBLG','MBLY','MBMH','MBRV','MBRY','MBSS','MBWH')\n",
    "plt.xticks(np.arange(16), xticklabels)\n",
    "ax.set_xticklabels(xticklabels, rotation = 90)\n",
    "yticklabels = ('1996/10','1997/01','1998/01','1999/01','2000/01','2001/01','2002/01','2003/01','2004/01','2005/01','2006/01','2007/01')\n",
    "plt.yticks([0, 3, 15, 27, 39, 51, 63, 75, 87, 99, 111, 123, 135], yticklabels)\n",
    "plt.tight_layout()\n",
    "plt.savefig('/Users/thompsong/Desktop/station_onness.png',dpi=200)"
   ]
  },
  {
   "cell_type": "code",
   "execution_count": 26,
   "metadata": {},
   "outputs": [
    {
     "name": "stdout",
     "output_type": "stream",
     "text": [
      "/Users/thompsong/src/Alexis_Montserrat_codes\n"
     ]
    }
   ],
   "source": [
    "print(os.getcwd())"
   ]
  },
  {
   "cell_type": "code",
   "execution_count": null,
   "metadata": {},
   "outputs": [],
   "source": []
  }
 ],
 "metadata": {
  "kernelspec": {
   "display_name": "Python 3",
   "language": "python",
   "name": "python3"
  },
  "language_info": {
   "codemirror_mode": {
    "name": "ipython",
    "version": 3
   },
   "file_extension": ".py",
   "mimetype": "text/x-python",
   "name": "python",
   "nbconvert_exporter": "python",
   "pygments_lexer": "ipython3",
   "version": "3.7.0"
  }
 },
 "nbformat": 4,
 "nbformat_minor": 2
}
