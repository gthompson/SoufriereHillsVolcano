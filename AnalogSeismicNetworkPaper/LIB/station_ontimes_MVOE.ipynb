{
 "cells": [
  {
   "cell_type": "code",
   "execution_count": 1,
   "metadata": {},
   "outputs": [],
   "source": [
    "import pandas as pd\n",
    "import csv\n",
    "import obspy\n",
    "import matplotlib.pyplot as plt\n",
    "import numpy as np\n",
    "import os\n",
    "import glob\n",
    "csvfile = '/home/thompsong/src/Alexis_Montserrat_codes/MVOE_dailytraceid_wavfiles_df.csv'\n",
    "df = pd.read_csv(csvfile)"
   ]
  },
  {
   "cell_type": "code",
   "execution_count": 2,
   "metadata": {},
   "outputs": [
    {
     "name": "stdout",
     "output_type": "stream",
     "text": [
      "         Unnamed: 0  yyyymmdd         traceid  count\n",
      "0                 0  19961001      .MBLY..PR2      0\n",
      "1                 1  19961001  MV.MBGB.--.BHH      0\n",
      "2                 2  19961001     .MBGE.J.SBE      0\n",
      "3                 3  19961001      .MBGB..BHZ      0\n",
      "4                 4  19961001  MV.MBRV.--.SHH      0\n",
      "5                 5  19961001  MV.MBGB.--.BHZ      0\n",
      "6                 6  19961001      .MBLY.2.PR      0\n",
      "7                 7  19961001       .MBLG..AP      0\n",
      "8                 8  19961001     .MBGB.J.SBN      0\n",
      "9                 9  19961001      .MBLG.N.BH      0\n",
      "10               10  19961001      .MBRY.Z.BH      0\n",
      "11               11  19961001     .MBRY.J.S A      0\n",
      "12               12  19961001  MV.MBLG.--.BHE      0\n",
      "13               13  19961001      .MBGH.1.PR      0\n",
      "14               14  19961001     .MBWH.J.A N      0\n",
      "15               15  19961001      .MBLY.Z.SH      0\n",
      "16               16  19961001  MV.MWHZ.--.SHZ      0\n",
      "17               17  19961001  MV.MBRY.--.SHZ      0\n",
      "18               18  19961001  MV.MBHA.--.BHN      0\n",
      "19               19  19961001     .DUMM.J.S Z      0\n",
      "20               20  19961001     .MBBE.I.SBN      0\n",
      "21               21  19961001  MV.MJHT.--.SHZ      0\n",
      "22               22  19961001  MV.MBLG.--.BHZ      0\n",
      "23               23  19961001     .MBBE.I.SBZ      0\n",
      "24               24  19961001      .MBBY.Z.BH      0\n",
      "25               25  19961001  MV.MBRY.--.BHZ      0\n",
      "26               26  19961001      .MBHA..BHN      0\n",
      "27               27  19961001      .MBFR.Z.BH      0\n",
      "28               28  19961001  MV.MBWH.--.BHZ      0\n",
      "29               29  19961001      .MBHA.E.BH      0\n",
      "...             ...       ...             ...    ...\n",
      "1096926     1096926  20080831  MV.MBGH.--.BHH      0\n",
      "1096927     1096927  20080831     .MBBY.J.SBN      0\n",
      "1096928     1096928  20080831  MV.MBGH.--.PHR      0\n",
      "1096929     1096929  20080831  MV.MBLG.--.SHZ      0\n",
      "1096930     1096930  20080831      .MBBY.Z.SH      0\n",
      "1096931     1096931  20080831      .MBGH..BHE      0\n",
      "1096932     1096932  20080831  MV.MBRY.--.BHE      9\n",
      "1096933     1096933  20080831     .MBLG.J.S A      0\n",
      "1096934     1096934  20080831       .MBRV..SH      0\n",
      "1096935     1096935  20080831  MV.MBWH.--.SHZ      0\n",
      "1096936     1096936  20080831  MV.MBWH.--.BHE      9\n",
      "1096937     1096937  20080831      .MBLG.Z.BH      0\n",
      "1096938     1096938  20080831      .MBLY.R.P1      0\n",
      "1096939     1096939  20080831  MV.MBHA.--.BHH      0\n",
      "1096940     1096940  20080831     .GUR3.I.SBZ      0\n",
      "1096941     1096941  20080831  MV.MBLG.--.BHN      9\n",
      "1096942     1096942  20080831  MV.MLYT.--.SHZ      0\n",
      "1096943     1096943  20080831      .MBMH.N.SH      0\n",
      "1096944     1096944  20080831      .MBRV..SHZ      0\n",
      "1096945     1096945  20080831     .MBRY.J.SBN      0\n",
      "1096946     1096946  20080831     .MBLYT.Z.BH      0\n",
      "1096947     1096947  20080831  MV.MBGB.--.BHN      9\n",
      "1096948     1096948  20080831  MV.MBBE.--.BHN      0\n",
      "1096949     1096949  20080831  MV.MBBY.--.BHZ      9\n",
      "1096950     1096950  20080831  MV.MBBY.--.BHE      9\n",
      "1096951     1096951  20080831  MV.MBFR.--.BHE      0\n",
      "1096952     1096952  20080831  MV.MBRV.--.SHZ      9\n",
      "1096953     1096953  20080831      .MBBY.E.BH      0\n",
      "1096954     1096954  20080831  MV.MBWH.--.SHA      0\n",
      "1096955     1096955  20080831     .MBGE.J.SBN      0\n",
      "\n",
      "[1096956 rows x 4 columns]\n"
     ]
    }
   ],
   "source": [
    "print(df)"
   ]
  },
  {
   "cell_type": "code",
   "execution_count": 3,
   "metadata": {},
   "outputs": [
    {
     "name": "stdout",
     "output_type": "stream",
     "text": [
      "['..J.SBN', '.DUMM.J.S E', '.DUMM.J.S N', '.DUMM.J.S Z', '.GUR3.I.SBE', '.GUR3.I.SBN', '.GUR3.I.SBZ', '.GUR4.I.SBE', '.GUR4.I.SBN', '.GUR4.I.SBZ', '.MBBE.I.SBE', '.MBBE.I.SBN', '.MBBE.I.SBZ', '.MBBE.J.SBE', '.MBBE.J.SBN', '.MBBE.J.SBZ', '.MBBY..BHE', '.MBBY..BHN', '.MBBY..BHZ', '.MBBY.E.BH', '.MBBY.J.SBE', '.MBBY.J.SBN', '.MBBY.J.SBZ', '.MBBY.N.BH', '.MBBY.Z.BH', '.MBBY.Z.SH', '.MBFL..SHZ', '.MBFL.Z.SH', '.MBFR..BHE', '.MBFR..BHN', '.MBFR..BHZ', '.MBFR.E.BH', '.MBFR.N.BH', '.MBFR.Z.BH', '.MBGA.J.SBE', '.MBGA.J.SBN', '.MBGA.J.SBZ', '.MBGB..BH', '.MBGB..BHE', '.MBGB..BHN', '.MBGB..BHZ', '.MBGB.E.BH', '.MBGB.J.SBE', '.MBGB.J.SBN', '.MBGB.J.SBZ', '.MBGB.N.BH', '.MBGB.Z.BH', '.MBGE.J.SBE', '.MBGE.J.SBN', '.MBGE.J.SBZ', '.MBGH..BH', '.MBGH..BHE', '.MBGH..BHN', '.MBGH..BHZ', '.MBGH.1.PR', '.MBGH.2.PR', '.MBGH.E.BH', '.MBGH.J.SBE', '.MBGH.J.SBN', '.MBGH.J.SBZ', '.MBGH.N.BH', '.MBGH.Z.BH', '.MBHA..BHE', '.MBHA..BHN', '.MBHA..BHZ', '.MBHA.E.BH', '.MBHA.N.BH', '.MBHA.Z.BH', '.MBLG..AP', '.MBLG..APS', '.MBLG..BHE', '.MBLG..BHN', '.MBLG..BHZ', '.MBLG..SH', '.MBLG..SHZ', '.MBLG.E.BH', '.MBLG.E.PRS', '.MBLG.J.A N', '.MBLG.J.S A', '.MBLG.J.S Z', '.MBLG.N.BH', '.MBLG.S.AP', '.MBLG.Z.BH', '.MBLG.Z.SH', '.MBLY..BH', '.MBLY..BHE', '.MBLY..BHN', '.MBLY..BHZ', '.MBLY..PR1', '.MBLY..PR2', '.MBLY..PR3', '.MBLY..PR4', '.MBLY..PR5', '.MBLY..PR6', '.MBLY.1.PR', '.MBLY.2.PR', '.MBLY.3.PR', '.MBLY.4.PR', '.MBLY.5.PR', '.MBLY.6.PR', '.MBLY.E.BH', '.MBLY.N.BH', '.MBLY.R.P1', '.MBLY.R.P2', '.MBLY.R.P3', '.MBLY.R.P4', '.MBLY.R.P5', '.MBLY.R.P6', '.MBLY.Z.BH', '.MBLY.Z.SH', '.MBLYT.E.BH', '.MBLYT.N.BH', '.MBLYT.Z.BH', '.MBMH.E.SH', '.MBMH.J.S E', '.MBMH.J.S N', '.MBMH.J.S Z', '.MBMH.N.SH', '.MBMH.Z.SH', '.MBRV..SH', '.MBRV..SHZ', '.MBRV.Z.SH', '.MBRY..BHE', '.MBRY..BHN', '.MBRY..BHZ', '.MBRY.E.BH', '.MBRY.J.A N', '.MBRY.J.S A', '.MBRY.J.S Z', '.MBRY.J.SBE', '.MBRY.J.SBN', '.MBRY.J.SBZ', '.MBRY.N.BH', '.MBRY.Z.BH', '.MBSS..SH', '.MBSS..SHZ', '.MBSS.J.S Z', '.MBSS.Z.SH', '.MBUN.J.S Z', '.MBWH..BHE', '.MBWH..BHN', '.MBWH..BHZ', '.MBWH..SH', '.MBWH..SHZ', '.MBWH.E.BH', '.MBWH.J.A N', '.MBWH.J.S Z', '.MBWH.N.BH', '.MBWH.Z.BH', '.MBWH.Z.SH', '.MGBE.J.SBE', 'MV.DD42.--.BH', 'MV.DD43.--.BHE', 'MV.DD43.--.BHN', 'MV.IRIG.--.THE', 'MV.MB??.--.SHZ', 'MV.MBBE.--.BHE', 'MV.MBBE.--.BHN', 'MV.MBBE.--.BHZ', 'MV.MBBY.--.BHE', 'MV.MBBY.--.BHH', 'MV.MBBY.--.BHN', 'MV.MBBY.--.BHZ', 'MV.MBBY.--.SHZ', 'MV.MBFL.--.BHH', 'MV.MBFL.--.BHZ', 'MV.MBFL.--.SHH', 'MV.MBFL.--.SHZ', 'MV.MBFR.--.BHE', 'MV.MBFR.--.BHH', 'MV.MBFR.--.BHN', 'MV.MBFR.--.BHZ', 'MV.MBGA.--.BHE', 'MV.MBGA.--.BHN', 'MV.MBGA.--.BHZ', 'MV.MBGB.--.BHE', 'MV.MBGB.--.BHH', 'MV.MBGB.--.BHN', 'MV.MBGB.--.BHZ', 'MV.MBGE.--.BHE', 'MV.MBGE.--.BHN', 'MV.MBGE.--.BHZ', 'MV.MBGE.--.SHZ', 'MV.MBGH.--.BHE', 'MV.MBGH.--.BHH', 'MV.MBGH.--.BHN', 'MV.MBGH.--.BHZ', 'MV.MBGH.--.PH1', 'MV.MBGH.--.PH2', 'MV.MBGH.--.PHR', 'MV.MBGH.--.SHE', 'MV.MBGH.--.SHN', 'MV.MBGH.--.SHZ', 'MV.MBHA.--.BHE', 'MV.MBHA.--.BHH', 'MV.MBHA.--.BHN', 'MV.MBHA.--.BHZ', 'MV.MBLG.--.BDF', 'MV.MBLG.--.BHE', 'MV.MBLG.--.BHH', 'MV.MBLG.--.BHN', 'MV.MBLG.--.BHZ', 'MV.MBLG.--.DHM', 'MV.MBLG.--.SHN', 'MV.MBLG.--.SHZ', 'MV.MBLY.--.BHE', 'MV.MBLY.--.BHH', 'MV.MBLY.--.BHN', 'MV.MBLY.--.BHZ', 'MV.MBLY.--.PH1', 'MV.MBLY.--.PH2', 'MV.MBLY.--.PH3', 'MV.MBLY.--.PH4', 'MV.MBLY.--.PH5', 'MV.MBLY.--.PH6', 'MV.MBLY.--.SHZ', 'MV.MBLYT.--.BHE', 'MV.MBLYT.--.BHN', 'MV.MBLYT.--.BHZ', 'MV.MBMH.--.SHE', 'MV.MBMH.--.SHN', 'MV.MBMH.--.SHZ', 'MV.MBRV.--.SHH', 'MV.MBRV.--.SHZ', 'MV.MBRY.--.BHE', 'MV.MBRY.--.BHH', 'MV.MBRY.--.BHN', 'MV.MBRY.--.BHZ', 'MV.MBRY.--.SHN', 'MV.MBRY.--.SHZ', 'MV.MBSS.--.SHZ', 'MV.MBUN.--.SHZ', 'MV.MBWH.--.BHE', 'MV.MBWH.--.BHH', 'MV.MBWH.--.BHN', 'MV.MBWH.--.BHZ', 'MV.MBWH.--.SHA', 'MV.MBWH.--.SHN', 'MV.MBWH.--.SHZ', 'MV.MGBH.--.BHZ', 'MV.MGHZ.--.SHZ', 'MV.MJHL.--.SHZ', 'MV.MJHT.--.SHZ', 'MV.MLGL.--.SHZ', 'MV.MLGT.--.SHZ', 'MV.MLYT.--.SHZ', 'MV.MNEV.--.SHZ', 'MV.MRYT.--.SHZ', 'MV.MWHE.--.SHE', 'MV.MWHN.--.SHN', 'MV.MWHZ.--.SHZ', 'MV.TEST.--.THT']\n"
     ]
    }
   ],
   "source": [
    "print(sorted(df.traceid.unique()))"
   ]
  },
  {
   "cell_type": "code",
   "execution_count": null,
   "metadata": {},
   "outputs": [],
   "source": [
    "def translate_id2site(id):\n",
    "    thissite = id[4:6]\n",
    "    if id[3:7]=='LONG':\n",
    "        thissite = 'LG'\n",
    "    if id[3:5]=='MW':\n",
    "        thissite = 'WH'\n",
    "    if id[3:6]=='MVO':\n",
    "        thissite = 'MVO'\n",
    "    if id[4:7]=='NEV':\n",
    "        thissite = 'NEV'\n",
    "    if id[3:5]=='MP':\n",
    "        thissite = 'PL'\n",
    "    if id[3:6]=='MCH':\n",
    "        thissite = 'CP'\n",
    "    if id[3:7]=='IRIG' or id[3:7]=='TST1' or id[3:6]=='MRH':\n",
    "        thissite = ''\n",
    "    return thissite    "
   ]
  },
  {
   "cell_type": "code",
   "execution_count": null,
   "metadata": {},
   "outputs": [],
   "source": [
    "uniqids = df.traceid.unique()\n",
    "sites = set()\n",
    "for id in uniqids:\n",
    "    thissite = translate_id2site(id)\n",
    "    if not thissite:\n",
    "        continue\n",
    "    sites.add(thissite)\n",
    "sites = sorted(sites)\n",
    "print(sites)"
   ]
  },
  {
   "cell_type": "code",
   "execution_count": null,
   "metadata": {},
   "outputs": [],
   "source": [
    "# loop over rows in df, and create a new dataframe for sites, with a 1 to indicate if on for each day\n",
    "sites_df = pd.DataFrame(columns = ['date'] + sorted(sites))\n",
    "for index, row in df.iterrows():\n",
    "    thisdate = row['yyyymmdd']\n",
    "    thissite = translate_id2site(row['traceid'])\n",
    "    if not thissite:\n",
    "        continue\n",
    "    thiscount = row['count']\n",
    "    if np.isnan(thiscount):\n",
    "        thiscount = 0\n",
    "    currentcount = 0\n",
    "    try:\n",
    "        currentcount = sites_df.at[thisdate,thissite]\n",
    "    except:\n",
    "        pass\n",
    "    if np.isnan(currentcount):\n",
    "        currentcount = 0\n",
    "    if thiscount > currentcount:\n",
    "        sites_df.at[thisdate,thissite] = thiscount\n",
    "print(sites_df)"
   ]
  },
  {
   "cell_type": "code",
   "execution_count": null,
   "metadata": {},
   "outputs": [],
   "source": [
    "sites_bool_df = (sites_df > 0) * 1"
   ]
  },
  {
   "cell_type": "code",
   "execution_count": null,
   "metadata": {},
   "outputs": [],
   "source": [
    "data = np.array(sites_bool_df, dtype=float) # convert dataframe to numpy array\n",
    "data = 1-data[:,1:] # remove 'date' column which for some reason is empty\n",
    "print(data.shape)"
   ]
  },
  {
   "cell_type": "code",
   "execution_count": null,
   "metadata": {},
   "outputs": [],
   "source": [
    "# Set labels for ontime plot\n",
    "xticklabels = sites\n",
    "yticklabels = []\n",
    "yticks=[]\n",
    "i = 0\n",
    "for index, row in sites_bool_df.iterrows():\n",
    "    date = str(index)\n",
    "    if date[-2:]=='01':\n",
    "        yticklabels.append(date)\n",
    "        yticks.append(i)\n",
    "    i+=1\n",
    "ystep = 1\n",
    "if len(yticks)>15:\n",
    "    ystep=2\n",
    "if len(yticks)>25:\n",
    "    ystep=3\n",
    "if len(yticks)>40:\n",
    "    ystep=4\n",
    "if len(yticks)>60:\n",
    "    ystep=6\n",
    "if len(yticks)>120:\n",
    "    ystep=12    \n",
    "yticks = yticks[0::ystep]\n",
    "yticklabels = yticklabels[0::ystep]\n",
    "print(yticklabels)"
   ]
  },
  {
   "cell_type": "code",
   "execution_count": null,
   "metadata": {},
   "outputs": [],
   "source": [
    "# make ontime plot\n",
    "fig = plt.figure()\n",
    "ax = fig.add_subplot(111)\n",
    "ax.imshow(data, aspect='auto', cmap=plt.cm.gray, interpolation='nearest')\n",
    "plt.xticks(np.arange(len(xticklabels)), xticklabels)\n",
    "ax.set_xticklabels(xticklabels, rotation = 90)\n",
    "plt.yticks(yticks, yticklabels)\n",
    "plt.tight_layout()\n",
    "plt.savefig('ASNE_siteontime.png',dpi=200)\n",
    "plt.ylabel('Date')\n",
    "plt.xlabel('Site')"
   ]
  },
  {
   "cell_type": "code",
   "execution_count": null,
   "metadata": {},
   "outputs": [],
   "source": [
    "# make number of stations operational per day plot\n",
    "fig = plt.figure()\n",
    "ax = fig.add_subplot(111)\n",
    "s = np.sum(1-data,axis=1)\n",
    "plt.plot(s,'.')\n",
    "plt.xticks(yticks, yticklabels)\n",
    "ax.set_xticklabels(yticklabels, rotation = 90)\n",
    "plt.ylabel('Number of sites operational')\n",
    "plt.savefig('ASNE_numsitesperday.png',dpi=200)"
   ]
  },
  {
   "cell_type": "code",
   "execution_count": null,
   "metadata": {},
   "outputs": [],
   "source": [
    "# make number of WAVfiles per day plot\n",
    "fig = plt.figure()\n",
    "ax = fig.add_subplot(111)\n",
    "data2 = np.array(sites_df) # convert dataframe to numpy array\n",
    "data2 = data2[:,1:] # remove 'date' column which for some reason is empty\n",
    "print(data2.shape)\n",
    "y = np.nanmax(data2,axis=1)\n",
    "print(y.shape)\n",
    "plt.plot(y)\n",
    "plt.xticks(yticks, yticklabels)\n",
    "ax.set_xticklabels(yticklabels, rotation = 90)\n",
    "plt.ylabel('Number of WAV files per day')\n",
    "#plt.ylim(-5,10)\n",
    "plt.savefig('ASNE_numwavfilesperday.png',dpi=200)"
   ]
  },
  {
   "cell_type": "code",
   "execution_count": null,
   "metadata": {},
   "outputs": [],
   "source": [
    "print(np.sum(y))"
   ]
  },
  {
   "cell_type": "code",
   "execution_count": null,
   "metadata": {},
   "outputs": [],
   "source": []
  }
 ],
 "metadata": {
  "kernelspec": {
   "display_name": "Python 3",
   "language": "python",
   "name": "python3"
  },
  "language_info": {
   "codemirror_mode": {
    "name": "ipython",
    "version": 3
   },
   "file_extension": ".py",
   "mimetype": "text/x-python",
   "name": "python",
   "nbconvert_exporter": "python",
   "pygments_lexer": "ipython3",
   "version": "3.7.0"
  }
 },
 "nbformat": 4,
 "nbformat_minor": 2
}
