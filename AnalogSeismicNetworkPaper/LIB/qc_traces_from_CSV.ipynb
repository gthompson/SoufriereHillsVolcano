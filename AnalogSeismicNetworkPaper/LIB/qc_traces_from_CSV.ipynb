{
 "cells": [
  {
   "cell_type": "markdown",
   "metadata": {},
   "source": [
    "This notebook is used to run some quality control on the individual waveforms and represent this as a number added to the dataframe"
   ]
  },
  {
   "cell_type": "code",
   "execution_count": null,
   "metadata": {},
   "outputs": [],
   "source": [
    "import pandas as pd\n",
    "import csv\n",
    "import obspy\n",
    "import matplotlib.pyplot as plt\n",
    "import numpy as np\n",
    "from trace_quality_control import *\n",
    "import os\n",
    "import glob"
   ]
  },
  {
   "cell_type": "code",
   "execution_count": null,
   "metadata": {},
   "outputs": [],
   "source": [
    "# Load the catalogue\n",
    "SEISAN_DATA = os.environ['SEISAN_DATA']\n",
    "CSVpath = os.path.dirname(SEISAN_DATA)\n",
    "os.chdir(CSVpath)\n",
    "list_of_csv_files = sorted(glob.glob('MVOE_catalog*.csv'))\n",
    "frames = []\n",
    "for csvfile in list_of_csv_files:\n",
    "    thisframe = pd.read_csv(csvfile)\n",
    "    frames.append(thisframe)\n",
    "mvocat=pd.concat(frames)\n",
    "mvocat.reset_index()\n",
    "#mvocat.columns = mvocat.columns.str.lstrip()\n",
    "mvocat.columns = mvocat.columns.str.strip().str.lower().str.replace(' ', '_').str.replace('(', '').str.replace(')', '')"
   ]
  },
  {
   "cell_type": "markdown",
   "metadata": {},
   "source": [
    "write to new CSV file"
   ]
  },
  {
   "cell_type": "code",
   "execution_count": null,
   "metadata": {},
   "outputs": [],
   "source": [
    "mvocat.to_csv('MVOE_CATALOG.csv')"
   ]
  },
  {
   "cell_type": "code",
   "execution_count": null,
   "metadata": {},
   "outputs": [],
   "source": [
    "nrows, ncolumns = mvocat.shape\n",
    "print(nrows)"
   ]
  },
  {
   "cell_type": "markdown",
   "metadata": {},
   "source": [
    "Add a quality index to the dataframe"
   ]
  },
  {
   "cell_type": "code",
   "execution_count": null,
   "metadata": {},
   "outputs": [],
   "source": [
    "quality_index = np.zeros(nrows)\n",
    "mvocat['quality_index'] = quality_index"
   ]
  },
  {
   "cell_type": "markdown",
   "metadata": {},
   "source": [
    "Loop over every row of the catalog and change quality factor to 1 if trace is good"
   ]
  },
  {
   "cell_type": "code",
   "execution_count": null,
   "metadata": {},
   "outputs": [],
   "source": [
    "for i in range(nrows):\n",
    "    #if i % 100==0:\n",
    "    print(i, end = ' ')\n",
    "    traceid = mvocat.iloc[i].traceid\n",
    "    wavfile = mvocat.iloc[i].wavfilepath\n",
    "    if wavfile.empty:\n",
    "        continue\n",
    "    try:\n",
    "        os.path.exists(wavfile)\n",
    "    except:\n",
    "        print(wavfile[40:])\n",
    "    try:\n",
    "        if not os.path.exists(wavfile):\n",
    "            continue\n",
    "    except:\n",
    "        continue\n",
    "    st = obspy.read(wavfile).select(id = traceid)\n",
    "    if not len(st)==1:\n",
    "        continue\n",
    "    data = st[0].data\n",
    "    if check0andMinus1(data):\n",
    "        quality_index[i] = 1\n",
    "    else:\n",
    "        pass\n",
    "        #print(\"There is consecutive 0 or -1. in this recording\")\n",
    "print('Done!')\n",
    "        "
   ]
  },
  {
   "cell_type": "code",
   "execution_count": null,
   "metadata": {},
   "outputs": [],
   "source": [
    "mvocat['quality_index'] = quality_index\n",
    "mvocat.to_csv('MVOE_CATALOG_QC.csv')"
   ]
  },
  {
   "cell_type": "code",
   "execution_count": null,
   "metadata": {},
   "outputs": [],
   "source": [
    "mvocat.mainclass.value_counts()"
   ]
  },
  {
   "cell_type": "code",
   "execution_count": null,
   "metadata": {},
   "outputs": [],
   "source": [
    "mvocat.subclass.value_counts()"
   ]
  },
  {
   "cell_type": "code",
   "execution_count": null,
   "metadata": {},
   "outputs": [],
   "source": [
    "LVcat = mvocat.loc[mvocat.mainclass == 'LV']\n",
    "LVcat.subclass.value_counts()"
   ]
  },
  {
   "cell_type": "code",
   "execution_count": null,
   "metadata": {},
   "outputs": [],
   "source": [
    "len(LVcat.wavfilepath.unique())"
   ]
  },
  {
   "cell_type": "code",
   "execution_count": null,
   "metadata": {},
   "outputs": [],
   "source": [
    "import matplotlib.pyplot as plt"
   ]
  },
  {
   "cell_type": "code",
   "execution_count": null,
   "metadata": {},
   "outputs": [],
   "source": []
  }
 ],
 "metadata": {
  "kernelspec": {
   "display_name": "Python 3",
   "language": "python",
   "name": "python3"
  },
  "language_info": {
   "codemirror_mode": {
    "name": "ipython",
    "version": 3
   },
   "file_extension": ".py",
   "mimetype": "text/x-python",
   "name": "python",
   "nbconvert_exporter": "python",
   "pygments_lexer": "ipython3",
   "version": "3.7.0"
  }
 },
 "nbformat": 4,
 "nbformat_minor": 2
}
