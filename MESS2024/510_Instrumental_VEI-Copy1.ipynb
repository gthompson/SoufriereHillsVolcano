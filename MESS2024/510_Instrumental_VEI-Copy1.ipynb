{
 "cells": [
  {
   "cell_type": "markdown",
   "id": "2e9e156a-1ec0-4739-aa64-a3fd3e65d4a5",
   "metadata": {},
   "source": [
    "# Instrumental VEI\n",
    "\n",
    "In this tutorial, we will attempt to draft an instrumental (seismic) VEI scale. One scale will be based on Reduced Displacement, another will use Energy Magnitude directly, and the third will be based on modelling volcanic events by a single force. First, some background on these.\n",
    "\n",
    "\n",
    "# 1. Reduced Displacement\n",
    "\n",
    "Reduced Displacement ($D_R$) is a measurement for comparing the sizes of different seismic signals, such as those corresponding to volcanic eruptions and lava dome collapses.\n",
    "\n",
    "Seismometers are (usually) velocity transducers - they generate an electric signal (in Volts) that is proportional to the velocity of ground shaking within a certain passband. Outside that passband, the seismometer no longer generates a voltage proportional to ground velocity. This voltage signal has to be digitized (using an analog-to-digital converter built into the datalogger or on a computer at the observatory), converting the signal units from Volts to digitizer \"Counts\" before it can be examined on a computer. This is a raw seismic signal. To convert this raw seismic signal to a velocity seismogram, we must \"remove the instrument response\". Then by carefully integrating the velocity seismogram, we will have a displacement seismogram. So we have raw, velocity, and displacement, seismograms.\n",
    "\n",
    "RSAM is just one of several related downsampled seismic measurements. Some others supported by the `SAM` package are:\n",
    "\n",
    "<table>\n",
    "    <tr><th>Acronym</th><th>Full name</th><th>Computed from a:</th><th>Instrument corrected?</th><th>Geometrically corrected?</th></tr>\n",
    "    <tr><td>RSAM</td><td><b>Real-time (or Raw) Seismic Amplitude Measurement</b></td><td>Raw seismogram</td><td>N</td><td>N</td></tr>\n",
    "    <tr><td>VSAM</td><td>Velocity Seismic Amplitude Measurement</td><td>Velocity seismogram</td><td>Y</td><td>N</td></tr>\n",
    "    <tr><td>DSAM</td><td>Displacement Seismic Amplitude Measurement</td><td>Displacement seismogram</td><td>Y</td><td>N</td></tr>\n",
    "    <tr><td>RSEM</td><td>Raw Seismic Energy Measurement</td><td>Raw seismogram</td><td>N</td><td>N</td></tr>   \n",
    "    <tr><td>VSEM</td><td>Velocity Seismic Energy Measurement</td><td>Velocity seismogram</td><td>Y</td><td>N</td></tr>\n",
    "    <tr><td>$V_R$ and $V_{RS}$</td><td>Reduced Velocity</td><td>VSAM</td><td>Y</td><td>Y</td></tr>  \n",
    "    <tr><td>$D_R$ and $D_{RS}$</td><td><b>Reduced Displacement</b></td><td>DSAM</td><td>Y</td><td>Y</td></tr>   \n",
    "    <tr><td>$E_R$</td><td><b>Reduced Energy</b></td><td>VSEM</td><td>Y</td><td>Y</td></tr>     \n",
    "</table>\n",
    "\n",
    "## 1.1 Correcting for Geometrical Spreading\n",
    "\n",
    "How do we compare seismograms recorded at different distances from the same volcano? Or from different volcanoes? One thing we can do is to \"reduce\" the seismograms to a common distance, e.g. 1 km, by correcting for geometrical spreading. This is the idea behind Reduced Displacement. \n",
    "\n",
    "Consider a simple half-space velocity model of uniform density. As body waves propagate to greater distances, the wavefront can be thought of as a hemispherical shell, with surface area $2\\pi{r}^2$. If energy is not dissipated inelastically or scattered, the energy per unit area must then diminish $1/{r}^2$. And since amplitude is proportional to the square root of energy, the amplitude of body waves diminishes like 1/r. We call this \"geometrical spreading\".\n",
    "\n",
    "Similarly, surface waves can be thought of as a circular (or cylindrical) wavefront, whose circumference increases like $2\\pi r$, so energy density diminishes like 1/r and surface wave amplitude as $1/\\sqrt(r)$.\n",
    "\n",
    "Reduced Displacement was introduced by Aki & Koyanagi (1981) as a measurement of volcanic tremor amplitude for Kilaeua. Proportional to seismic moment rate, it is the RMS amplitude of a displacement seismogram, corrected for geometrical spreading. \n",
    "\n",
    "For body waves:\n",
    "\n",
    "$D_{R} = rms(U) r$\n",
    "\n",
    "where r = distance from source to station, U = displacement\n",
    "\n",
    "Beyond a few wavelengths, surface waves dominate, and Fehler (1983) determined:\n",
    "\n",
    "$D_{RS} = rms(U) \\sqrt{r \\lambda}$\n",
    "\n",
    "In a series of papers McNutt (1994; 2005; 2008) demonstrated scaling relationships for explosive volcanic eruptions between Reduced Displacement and:\n",
    "- ash column height\n",
    "- Volcanic Explosivity Index (Newhall and Self, 1982)\n",
    "- cross-sectional area of volcanic vent\n",
    "\n",
    "RSAM is generally more useful for seismic field engineers, because it is unfiltered. Reduced Displacement is generally more useful for scientists, as it is a measurement that can be compared from station to station, even on different volcanoes. \n",
    "\n",
    "References:\n",
    "\n",
    "- Aki, K., Koyanagi, R.Y., 1981. Deep volcanic tremor and magma ascent mechanism under Kilauea, Hawaii. J. Geophys. Res. 86, 7095–7110.\n",
    "- Fehler, M., 1983. Observations of volcanic tremor at Mount St. Helens Volcano. J. Geophys. Res. 88, 3476–3484.\n",
    "- McNutt, S.R., 1994. Volcanic tremor amplitude correlated with the Volcanic Explosivity Index and its potential use in determining ash hazards to aviation. Acta Vulcanol. 5, 193–196.\n",
    "- McNutt, S.R., Nishimura, T., 2008. Volcanic tremor during eruptions: Temporal characteristics, scaling and constraints on conduit size and processes. J. Volcanol. Geotherm. Res., 178, 1, 10-18. https://doi.org/10.1016/j.jvolgeores.2008.03.010.\n",
    "- Newhall, C.G., Self, S., 1982. The volcanic explosivity index (VEI): an estimate of explosive magnitude for historical volcanism. J. Geophys. Res. 87, 1231–1238.\n",
    "\n",
    "## 1.2 Computing Reduced Displacement\n",
    "\n",
    "DSAM is just an instrument-corrected version of RSAM, and $D_R$/$D_{RS}$  is just DSAM corrected for geometrical spreading, and so SAM.py was written to support all these different measurements. Here is an algorithm:\n",
    "\n",
    "1. Load raw seismic data as an ObsPy Stream object.\n",
    "2. Load station/instrument response metadata from a StationXML file into an Obspy Inventory object.\n",
    "3. Remove instrument response to convert Stream object to a displacement seismogram.\n",
    "4. Compute DSAM data from this displacement seismogram. \n",
    "6. Define a fixed source location.\n",
    "7. Compute distance from station to source (done internally using source and inventory)\n",
    "8. \"Reduce\" the DSAM object by multiplying by geometrical spreading correction.\n",
    "\n",
    "# 2. Energy Magnitude\n",
    "\n",
    "Ampitude measurements, such as RSAM and Reduced Displacement, do not effectively capture the size of an event because some events of equal amplitude may be of very different durations. So it is useful to estimate the energy of the event. Furthermore, because event energy can range of several orders of magnitude, it is useful to define an energy magnitude.\n",
    "\n",
    "We compute Reduced Energy ($E_R$, units: J) via the equation:\n",
    "\n",
    "$E_R = 2 \\pi r^{2}  \\frac{\\rho_{E} c_{E}}{A} \\int {S^{2} {U(t)}^2} dt$\n",
    "\n",
    "(Boatwright, 1980; Johnson and Aster, 2005). \n",
    "\n",
    "Since this includes a correction for geometrical spreading, we will call it Reduced Energy ($E_{R}$).\n",
    "\n",
    "The quantity ---- is similar to RSEM (Real-time Seismic Energy Measurement) but computed on a velocity seismogram rather than a raw seismogram, so we call it VSEM.\n",
    "\n",
    "And then following Hanks and Kanamori (1???), we define Energy-Magnitude ($M_{E}$) as:\n",
    "\n",
    "(Started doing this in March 2000 at Montserrat Volcano Observatory... lots of complaints!)\n",
    "\n",
    "$M_{E} = \\frac{2}{3} log_{10} E_R - 3.2$\n",
    "\n",
    "(The factor 3.2 might change depending on velocity structure).\n",
    "\n",
    "We will now compute $E_{R}$ and $M_{E}$ for the same events we examined in the Reduced Displacement tutorial.\n",
    "\n",
    "References:\n",
    "\n",
    "- Boatwright, 1980\n",
    "- & Boatright, 1995 (original Energy Magnitude definition)\n",
    "- Johnson & Aster, 2005\n",
    "- VSEM?\n",
    "- Hanks and Kanamori, 1980?\n",
    "\n",
    "## 2.1 Computing Reduced Energy ($E_R$)\n",
    "\n",
    "DSAM is just an instrument-corrected version of RSAM, and Reduced Displacement is just DSAM corrected for geometrical spreading, and so SAM.py was written to support all these different measurements. Here is an algorithm:\n",
    "\n",
    "1. Load raw seismic data as an ObsPy Stream object.\n",
    "2. Load station/instrument response metadata from a StationXML file into an Obspy Inventory object.\n",
    "3. Remove instrument response to convert Stream object to a displacement seismogram.\n",
    "4. Compute DSAM data from this displacement seismogram. \n",
    "6. Define a fixed source location.\n",
    "7. Compute distance from station to source (done internally using source and inventory)\n",
    "8. \"Reduce\" the DSAM object by multiplying by geometrical spreading correction.\n",
    "\n",
    "# 3. Single Force\n",
    "\n",
    "A vertically-directed volcanic explosion can be modelled as a single force using moment tensor representation. Similarly, a directed blast can be modelled as a titled or horizontal single force. Felix Cardozo plans to make some estimates with MTUQ, and just needs instrument-corrected (displacement) seismograms.\n",
    "\n",
    "# 4. Methodology\n",
    "\n",
    "## Functions"
   ]
  },
  {
   "cell_type": "code",
   "execution_count": 1,
   "id": "82acb761-101a-4593-a550-3b4441c0e000",
   "metadata": {},
   "outputs": [
    {
     "ename": "ModuleNotFoundError",
     "evalue": "No module named 'DFT'",
     "output_type": "error",
     "traceback": [
      "\u001b[0;31m---------------------------------------------------------------------------\u001b[0m",
      "\u001b[0;31mModuleNotFoundError\u001b[0m                       Traceback (most recent call last)",
      "Cell \u001b[0;32mIn[1], line 9\u001b[0m\n\u001b[1;32m      7\u001b[0m sys\u001b[38;5;241m.\u001b[39mpath\u001b[38;5;241m.\u001b[39mappend(\u001b[38;5;124m'\u001b[39m\u001b[38;5;124mlib\u001b[39m\u001b[38;5;124m'\u001b[39m)\n\u001b[1;32m      8\u001b[0m \u001b[38;5;28;01mimport\u001b[39;00m \u001b[38;5;21;01mdataframe_tools\u001b[39;00m \u001b[38;5;28;01mas\u001b[39;00m \u001b[38;5;21;01mDFT\u001b[39;00m\n\u001b[0;32m----> 9\u001b[0m \u001b[38;5;28;01mfrom\u001b[39;00m \u001b[38;5;21;01mDFT\u001b[39;00m \u001b[38;5;28;01mimport\u001b[39;00m wrapper\n\u001b[1;32m     10\u001b[0m \u001b[38;5;28;01mfrom\u001b[39;00m \u001b[38;5;21;01mSAM\u001b[39;00m \u001b[38;5;28;01mimport\u001b[39;00m DSAM, VSEM, DR, DRS\n\u001b[1;32m     12\u001b[0m \u001b[38;5;28;01mfrom\u001b[39;00m \u001b[38;5;21;01mmath\u001b[39;00m \u001b[38;5;28;01mimport\u001b[39;00m log10, floor\n",
      "\u001b[0;31mModuleNotFoundError\u001b[0m: No module named 'DFT'"
     ]
    }
   ],
   "source": [
    "import os\n",
    "import sys\n",
    "#import glob\n",
    "import numpy as np\n",
    "import pandas as pd\n",
    "import obspy\n",
    "sys.path.append('lib')\n",
    "import dataframe_tools as DFT\n",
    "from DFT import wrapper\n",
    "from SAM import DSAM, VSEM, DR, DRS\n",
    "\n",
    "from math import log10, floor\n",
    "def sigfigs(x, n=2):\n",
    "    if x==0:\n",
    "        return 0\n",
    "    else:\n",
    "        return round(x, n-int(floor(log10(abs(x))))-1)\n",
    "\n",
    "\n",
    "# Load raw seismic data - and set units accordingly\n",
    "DATA_DIR = os.path.join('data')\n",
    "SDS_DIR = os.path.join(DATA_DIR, 'continuous','SDS')\n",
    "SAM_DIR = os.path.join(DATA_DIR, 'continuous','SAM')\n",
    "RESPONSE_DIR = os.path.join(DATA_DIR, 'responses')\n",
    "\n",
    "# Load raw seismic data - and set units accordingly\n",
    "SDS_DIR = os.path.join('/data', 'SDS')\n",
    "#SAM_DIR = os.path.join(DATA_DIR, 'continuous','SAM')\n",
    "RESPONSE_DIR = os.path.join('data', 'responses')\n",
    "\n",
    "#resultsDF = pd.DataFrame(columns=['Event', 'sum(ER)', 'ME', 'sum(ER_VLP)', 'ME_VLP', 'DR', 'DR_VLP', 'DRS', 'DRS_VLP', 'M_DR', 'M_DR_VLP', 'M_DRS', 'M_DRS_VLP'])\n",
    "\n",
    "resultsDF = pd.DataFrame(columns=['Event', 'start', 'end', 'duration', 'ML', 'sum(ER)', 'ME', 'DR', 'DRS']) #,  'M_DR',  'M_DRS'])\n",
    "\n"
   ]
  },
  {
   "cell_type": "markdown",
   "id": "943d7569-a2a0-4262-82f1-114423020e30",
   "metadata": {},
   "source": [
    "# 5. Events\n",
    "\n",
    "## 5.1 Event 1: Boxing Day Collapse 1997, Montserrat\n",
    "\n",
    "29 months into the eruption of the Soufriere Hills Volcano, Montserrat, part of the crater wall the lava dome was growing within (and overtopping) suddenly collapsed in a landslide, causing a sideways explosion of the lava dome which effectively removed all traces of villages in the southwest quadrant of Montserrat (the villages had been evacuated more than a year earlier). At this time, there were only 2 stations operational, due to months of pyroclastic flows which had destroyed the capital, Plymouth, the airport, numerous other villages, and several seismic stations, and it was much too dangerous to replace them."
   ]
  },
  {
   "cell_type": "code",
   "execution_count": null,
   "id": "c492d2d1-1a98-484f-ab5c-287a47b38154",
   "metadata": {
    "scrolled": true
   },
   "outputs": [],
   "source": [
    "# Event name\n",
    "eventname1 = 'Boxing Day Collapse 1997'\n",
    "source1 = {'lat':16.71111, 'lon':-62.17722}\n",
    "network1 = 'MV'\n",
    "stationxml1 = os.path.join(RESPONSE_DIR, f'{network1}.xml')\n",
    "startt1 = obspy.UTCDateTime(1997,12,26,6,40,0)\n",
    "endt1 = obspy.UTCDateTime(1997,12,26,7,40,0)\n",
    "trace_ids=['MV.MBWH..SHZ', 'MV.MBLG..SHZ']\n",
    "wrapper(SDS_DIR, network1, startt1, endt1, stationxml1, resultsDF, eventname1, source1, trace_ids=trace_ids)"
   ]
  },
  {
   "cell_type": "markdown",
   "id": "d1385b10-5df8-41ae-8a63-83161758197e",
   "metadata": {},
   "source": [
    "In this example, for the regular passband, we get very similar values of $D_R$ and $D_{RS}$ - both around 217 ${cm}^2$. In the VLP passband, the signal is 10 times smaller, which isn't surprising as the only stations available had short-period seismometers.\n",
    "\n",
    "## 5.2 July 12th 2003 Dome collapse, Montserrat\n",
    "On July 12th, 2003, over 200 million ${m}^3$ of the lava dome collapse in a series of explosions and pyroclastic flows, over a few hours. Let's compare the $D_R$ (and $D_{RS}$) of this event to the Boxing Day 1997 collapse we just examined. Since this collapse happened mostly down the Tar River Valley, we will pick a source location there, rather than one centred on the lava dome."
   ]
  },
  {
   "cell_type": "code",
   "execution_count": null,
   "id": "0c7784f8-d039-406b-b42f-029bc7b4ce20",
   "metadata": {},
   "outputs": [],
   "source": [
    "eventname2 = ['2003/07/12 low-medium PDCs', \n",
    "              '2003/07/13 large PDC', \n",
    "              '2003/07/13 major collapse', \n",
    "              '2003/07/13 03:35 explosion',\n",
    "              '2003/07/13 13:08 explosion',\n",
    "              '2003/07/14 05:14 explosion',\n",
    "              '2003/07/15 05:28 explosion']\n",
    "              \n",
    "stationxml2 = stationxml1\n",
    "source2 = {'lat':16.7164, 'lon':-62.1654}  # Tar River\n",
    "\n",
    "startt2 = [obspy.UTCDateTime(2003,7,12,13,30,0), \n",
    "           obspy.UTCDateTime(2003,7,13,0,20,20), \n",
    "           obspy.UTCDateTime(2003,7,13,2,0,0), \n",
    "           obspy.UTCDateTime(2003,7,13,3,34,0),\n",
    "           obspy.UTCDateTime(2003,7,13,13,7,0),\n",
    "           obspy.UTCDateTime(2003,7,14,5,14,0),\n",
    "           obspy.UTCDateTime(2003,7,15,5,28,0)]\n",
    "        \n",
    "endt2 = [obspy.UTCDateTime(2003,7,13,0,0,0), \n",
    "         obspy.UTCDateTime(2003,7,13,0,25,0), \n",
    "         obspy.UTCDateTime(2003,7,13,4,40,0),\n",
    "         obspy.UTCDateTime(2003,7,13,3,37,0),\n",
    "         obspy.UTCDateTime(2003,7,13,13,10,0),\n",
    "         obspy.UTCDateTime(2003,7,14,5,20,0),\n",
    "         obspy.UTCDateTime(2003,7,15,5,40,0)]\n",
    "\n",
    "trace_ids = trace_ids=['MV.MBGH..BHZ', 'MV.MBLG..SHZ', 'MV.MBRY..BHZ', 'MV.MBSS..SHZ', 'MV.MBWH..SHZ']\n",
    "wrapper(SDS_DIR, network1, startt2, endt2, stationxml2, resultsDF, eventname2, source2, trace_ids = trace_ids)\n"
   ]
  },
  {
   "cell_type": "code",
   "execution_count": null,
   "id": "5dfb3f9a-e4f5-4e63-a6c4-e2711b2d6f1c",
   "metadata": {
    "scrolled": true
   },
   "outputs": [],
   "source": [
    "'''\n",
    "#eventname2 = ['2001/07/29 major collapse']\n",
    "#startt2 = [obspy.UTCDateTime(2001,7,29,0,0,0)]    \n",
    "#endt2 = [obspy.UTCDateTime(2001,7,31,0,0,0)]   \n",
    "#eventname2 = ['1997/06/25 collapse']\n",
    "#startt2 = [obspy.UTCDateTime(1997,6,25,0,0,0)]    \n",
    "#endt2 = [obspy.UTCDateTime(1997,6,26,0,0,0)]  \n",
    "#eventname2 = ['2000/03/20 collapse']\n",
    "#startt2 = [obspy.UTCDateTime(2000,3,19,0,0,0)]    \n",
    "#endt2 = [obspy.UTCDateTime(2000,3,21,0,0,0)] \n",
    "eventname2 = ['2001/03/01 tremor']\n",
    "startt2 = [obspy.UTCDateTime(2001,3,1,0,0,0)]    \n",
    "endt2 = [obspy.UTCDateTime(2001,3,2,0,0,0)] \n",
    "stationxml2 = stationxml1\n",
    "source2 = {'lat':16.7164, 'lon':-62.1654}  # Tar River\n",
    "\n",
    "#race_ids = trace_ids=['MV.MBGH..BHZ', 'MV.MBLG..SHZ', 'MV.MBRY..BHZ', 'MV.MBSS..SHZ', 'MV.MBWH..SHZ']\n",
    "wrapper(SDS_DIR, network1, startt2, endt2, stationxml2, resultsDF, eventname2, source2)##, trace_ids = trace_ids)\n",
    "'''"
   ]
  },
  {
   "cell_type": "markdown",
   "id": "d3aa8c86-edbf-4ec7-af33-be48e657167a",
   "metadata": {},
   "source": [
    "## 3.3 Phreatic eruptions, Whakaari\n",
    "\n",
    "Whakaari - otherwise known as White Island - is the subaerial tip of a 1600 m high volcano that rises from the seafloor. Tourists arriving by boat and helicopter take a short hike into an open volcanic crater, past fumaroles, to an overlook of the crater lake. Phreatic eruptions are particularly difficult to forecast, as unlike magmatic eruptions, there are no seismic precursors (or indeed any other precuroses) that have been identified. Sadly, this particulary eruption led to the deaths of 22 tourists and guides. Let's compute the $D_R$ (and $D_{RS}$) of this event.\n"
   ]
  },
  {
   "cell_type": "code",
   "execution_count": null,
   "id": "76edb1dc-4717-407b-926d-73604cb188d2",
   "metadata": {
    "scrolled": true
   },
   "outputs": [],
   "source": [
    "network3 = 'NZ'\n",
    "eventname3 = 'Phreatic explosion, Whakaari'\n",
    "stationxml3 = os.path.join(RESPONSE_DIR, 'NZ.xml')\n",
    "source3 = {'lat':-37.5217, 'lon':177.185}\n",
    "startt3 = [obspy.UTCDateTime(2012,8,4,16,52,0),\n",
    "           obspy.UTCDateTime(2013,8,19,22,23,0),\n",
    "           obspy.UTCDateTime(2013,10,3,3,35,0),\n",
    "           obspy.UTCDateTime(2013,10,8,2,5,0),\n",
    "           obspy.UTCDateTime(2013,10,11,7,9,0),  \n",
    "           obspy.UTCDateTime(2016,4,27,9,37,0),             \n",
    "           obspy.UTCDateTime(2019,12,9,1,10,0),\n",
    "          ]\n",
    "endt3 = [obspy.UTCDateTime(2012,8,4,17,10,0),  \n",
    "         obspy.UTCDateTime(2013,8,19,22,41,0),\n",
    "         obspy.UTCDateTime(2013,10,3,3,51,0),\n",
    "         obspy.UTCDateTime(2013,10,8,2,23,0),  \n",
    "         obspy.UTCDateTime(2013,10,11,7,27,0),\n",
    "         obspy.UTCDateTime(2016,4,27,9,55,0),            \n",
    "         obspy.UTCDateTime(2019,12,9,1,28,0),\n",
    "        ]\n",
    "wrapper(SDS_DIR, network3, startt3, endt3, stationxml3, resultsDF, eventname3, source3)\n"
   ]
  },
  {
   "cell_type": "markdown",
   "id": "98e76be5-4a4c-4c62-8a70-92bb99de0e31",
   "metadata": {},
   "source": [
    "\n",
    "\n",
    "## 3.4 Sub-Plinian eruption sequence, Redoubt volcano, March 23 - April 4, 2009\n",
    "\n",
    "Redoubt volcano in Alaska had been in a state of unrest for 2-3 months, with deep-long-period earthquakes, deformation, swarms, and tremor, before explosively erupting at least 18 times between March 23rd and March 28th, 2009. We look only at March 23rd. There were actually 5 major explosive events on this day, which began at 6:38am (18,000 ft), 7:02am (44,000 ft), 08:14am (43,000 ft), 9:39am (43,000 ft), and 12:31pm (49,000 ft). \n",
    "\n",
    "The seismic data come from an analog telemetry system, and most channels are heavily contaminated by large interference spikes, and if we don't remove these, we'll end up with $D_R$   of ~10^7 ${cm}^2$ !! It turns out there are only two stations free of this noise, RDN and REF, although these also become contaminated from around 3pm onwards."
   ]
  },
  {
   "cell_type": "markdown",
   "id": "380ae013-1393-4b1c-b5d8-062f6d92f728",
   "metadata": {},
   "source": [
    "The seismograms look clean, so now we'll compute the DSAM data and apply a clip level of 0.01 mm to the displacement seismogram. This might take 1-2 minutes because it is computing DSAM data for 24 hours of multi-channel data."
   ]
  },
  {
   "cell_type": "code",
   "execution_count": null,
   "id": "9a06ea2b-0adb-46db-8a66-135b73d360e4",
   "metadata": {},
   "outputs": [],
   "source": [
    "network4 = 'AV'\n",
    "# durations from Helena's table, +2 mins\n",
    "startt4 = [\n",
    "    obspy.UTCDateTime(2009,2,15,21,5,0),\n",
    "    obspy.UTCDateTime(2009,3,23,6,34,0),\n",
    "    obspy.UTCDateTime(2009,3,23,7,2,0),    \n",
    "    obspy.UTCDateTime(2009,3,23,8,14,0),     \n",
    "    obspy.UTCDateTime(2009,3,23,9,38,0),\n",
    "    obspy.UTCDateTime(2009,3,23,12,30,0),    \n",
    "    obspy.UTCDateTime(2009,3,24,3,40,0),   \n",
    "    obspy.UTCDateTime(2009,3,26,16,34,0), \n",
    "    obspy.UTCDateTime(2009,3,26,17,24,0),   \n",
    "    obspy.UTCDateTime(2009,3,27,7,47,0),  \n",
    "    obspy.UTCDateTime(2009,3,27,8,28,0),  \n",
    "    obspy.UTCDateTime(2009,3,27,16,39,0),  \n",
    "    obspy.UTCDateTime(2009,3,28,1,34,0),\n",
    "    obspy.UTCDateTime(2009,3,28,3,24,0),   \n",
    "    obspy.UTCDateTime(2009,3,28,7,19,0),  \n",
    "    obspy.UTCDateTime(2009,3,28,9,19,0),  \n",
    "    obspy.UTCDateTime(2009,3,28,21,40,0),  \n",
    "    obspy.UTCDateTime(2009,3,28,23,29,0), \n",
    "    obspy.UTCDateTime(2009,3,29,3,23,0),\n",
    "    obspy.UTCDateTime(2009,4,4,13,58,0)\n",
    "]\n",
    "endt4 =   [\n",
    "    obspy.UTCDateTime(2009,2,15,21,23,0),\n",
    "    obspy.UTCDateTime(2009,3,23,6,38,0),\n",
    "    obspy.UTCDateTime(2009,3,23,7,9,0), \n",
    "    obspy.UTCDateTime(2009,3,23,8,36,0), \n",
    "    obspy.UTCDateTime(2009,3,23,10,2,0),  \n",
    "    obspy.UTCDateTime(2009,3,23,12,52,0),  \n",
    "    obspy.UTCDateTime(2009,3,24,3,57,0), \n",
    "    obspy.UTCDateTime(2009,3,26,16,37,0),  \n",
    "    obspy.UTCDateTime(2009,3,26,17,37,0),\n",
    "    obspy.UTCDateTime(2009,3,27,7,50,0), \n",
    "    obspy.UTCDateTime(2009,3,27,8,35,0), \n",
    "    obspy.UTCDateTime(2009,3,27,16,49,0), \n",
    "    obspy.UTCDateTime(2009,3,28,1,38,0), \n",
    "    obspy.UTCDateTime(2009,3,28,3,30,0), \n",
    "    obspy.UTCDateTime(2009,3,28,7,23,0),  \n",
    "    obspy.UTCDateTime(2009,3,28,9,23,0), \n",
    "    obspy.UTCDateTime(2009,3,28,21,48,0), \n",
    "    obspy.UTCDateTime(2009,3,28,23,40,0), \n",
    "    obspy.UTCDateTime(2009,3,29,3,35,0),\n",
    "    obspy.UTCDateTime(2009,4,4,14,2,0)\n",
    "]\n",
    "eventname4 = '2009 Redoubt'\n",
    "stationxml4 = os.path.join(RESPONSE_DIR, 'RD.xml')\n",
    "source4 = {'lat':60.4845, 'lon':-152.7392}\n",
    "wrapper(SDS_DIR, network4, startt4, endt4, stationxml4, resultsDF, eventname4, source4, trace_ids=['AV.RDN..EHZ', 'AV.REF..EHZ'])\n"
   ]
  },
  {
   "cell_type": "markdown",
   "id": "a9cc3258-abf2-44df-b836-8ae6f8785615",
   "metadata": {},
   "source": [
    "## 3.5 Hunga Tonga eruption, Jan 15th, 2022\n",
    "\n",
    "Our final example is Hunga Tonga, which on January 15th, 2022, exploded spectacularly, destroying most of the island, generating a tsunami, and seismic, pressure and gravity waves that propagated around the globe several times. "
   ]
  },
  {
   "cell_type": "code",
   "execution_count": null,
   "id": "a2f85776-963c-44e2-b305-c883573582f0",
   "metadata": {},
   "outputs": [],
   "source": [
    "from obspy.clients.filesystem.sds import Client as sdsclient\n",
    "eventname5 = 'Hunga Tonga, 2022/01/15'\n",
    "network5 = 'II'\n",
    "#mySDSclient = sdsclient(SDS_DIR)\n",
    "startt5 = obspy.UTCDateTime(2022,1,15,4,15,0)\n",
    "endt5 = obspy.UTCDateTime(2022,1,15,4,30,0)\n",
    "stationxml5 = os.path.join(RESPONSE_DIR, 'II.xml')\n",
    "source5 = {'lat':-20.57, 'lon':-175.38}\n",
    "#st = mySDSclient.get_waveforms(\"II\", \"MSVF\", \"10\", \"BHZ\", startt5, endt5)\n",
    "#st.plot(equal_scale=False);\n",
    "wrapper(SDS_DIR, network5, startt5, endt5, stationxml5, resultsDF, eventname5, source5, pre_filt=[0.01, 0.02, 0.1, 0.2], filter=[0.01, 0.1])\n"
   ]
  },
  {
   "cell_type": "markdown",
   "id": "40b7a333-357e-4708-81ef-9764ddfcd804",
   "metadata": {},
   "source": [
    "## 6. Results"
   ]
  },
  {
   "cell_type": "code",
   "execution_count": null,
   "id": "ecd3437d-edf5-45c9-910c-e21e4e4d34df",
   "metadata": {},
   "outputs": [],
   "source": [
    "resultsDF.to_csv('instrumental_seismic_VEI_raw_results.csv')"
   ]
  },
  {
   "cell_type": "code",
   "execution_count": null,
   "id": "2ed56d55-eccb-43f1-b26b-f524bbd48f39",
   "metadata": {},
   "outputs": [],
   "source": [
    "import numpy as np\n",
    "import pandas as pd\n",
    "import sys\n",
    "sys.path.append('lib')\n",
    "import dataframe_tools as DFT\n",
    "import importlib\n",
    "importlib.reload(DFT)\n",
    "\n",
    "#resultsDF = pd.read_csv('instrumental_seismic_VEI_initial_results.csv') # old version, with 3.318 higher ML\n",
    "resultsDF = pd.read_csv('instrumental_seismic_VEI_raw_results.csv')\n",
    "resultsDF = resultsDF.loc[:, ~resultsDF.columns.str.contains('^Unnamed')]\n",
    "''' from https://www.weather.gov/media/publications/assessments/redoubt.pdf, page 7\n",
    "11 3/23 06:38 FL180\n",
    "12 3/23 07:02 FL440\n",
    "13 3/23 08:14 FL430\n",
    "14 3/23 09:39 FL430\n",
    "15 3/23 12:31 FL490\n",
    "16 3/24 03:41 FL600\n",
    "17 3/26 16:34 FL220\n",
    "18 3/26 17:24 FL620\n",
    "19 3/27 07:47 FL360\n",
    "20 3/27 08:29 FL490\n",
    "21 3/27 16:39 FL510\n",
    "22 3/28 01:35 FL390\n",
    "23 3/28 03:25 FL500\n",
    "24 3/28 07:20 FL390\n",
    "25 3/28 09:20 FL430\n",
    "26 3/28 21:40 FL170\n",
    "27 3/28 23:39 FL400\n",
    "28 3/29 03:23 FL410\n",
    "'''\n",
    "\n",
    "def feet2km(ft, n=1):\n",
    "    feetPerKm = 3281\n",
    "    return np.round(ft/feetPerKm, n)\n",
    "    \n",
    "\n",
    "\n",
    "resultsDF['Hc_km'] = None\n",
    "resultsDF['V_km3'] = None\n",
    "resultsDF['VEI'] = None\n",
    "resultsDF['VEI_H'] = None\n",
    "resultsDF['VEI_V'] = None\n",
    "resultsDF.at[0, 'V_km3'] = 0.06\n",
    "resultsDF.at[3, 'V_km3'] = 0.2\n",
    "resultsDF.at[9, 'Hc_km'] = 1.8\n",
    "# Redoubt values from https://www.weather.gov/media/publications/assessments/redoubt.pdf  (table above)\n",
    "resultsDF.at[11, 'Hc_km'] = feet2km(18000)\n",
    "resultsDF.at[12, 'Hc_km'] = feet2km(44000)\n",
    "resultsDF.at[13, 'Hc_km'] = feet2km(43000)\n",
    "resultsDF.at[14, 'Hc_km'] = feet2km(43000)\n",
    "resultsDF.at[15, 'Hc_km'] = feet2km(49000)\n",
    "resultsDF.at[16, 'Hc_km'] = feet2km(60000)\n",
    "resultsDF.at[17, 'Hc_km'] = feet2km(22000)\n",
    "resultsDF.at[18, 'Hc_km'] = feet2km(62000)\n",
    "resultsDF.at[19, 'Hc_km'] = feet2km(36000)\n",
    "resultsDF.at[20, 'Hc_km'] = feet2km(49000)\n",
    "resultsDF.at[21, 'Hc_km'] = feet2km(51000)\n",
    "resultsDF.at[22, 'Hc_km'] = feet2km(39000)\n",
    "resultsDF.at[23, 'Hc_km'] = feet2km(50000)\n",
    "resultsDF.at[24, 'Hc_km'] = feet2km(39000)\n",
    "resultsDF.at[25, 'Hc_km'] = feet2km(43000)\n",
    "resultsDF.at[26, 'Hc_km'] = feet2km(17000)\n",
    "resultsDF.at[27, 'Hc_km'] = feet2km(40000)\n",
    "resultsDF.at[28, 'Hc_km'] = feet2km(41000)\n",
    "resultsDF.at[30, 'Hc_km'] = 57\n",
    "resultsDF.at[30, 'V_km3'] = 8.6\n",
    "resultsDF.at[30, 'DR'] = resultsDF.loc[30, 'DRS']\n",
    "\n",
    "resultsDF['V'] = resultsDF['V_km3']*1e9\n",
    "resultsDF['H'] = resultsDF['Hc_km']*1e3\n",
    "\n",
    "# SCAFFOLD: keep doing for events 19+\n",
    "#resultsDF['VEI_DR_SM'] = 2.17 * np.log10(resultsDF['DR']) + 0.17 # # Steve's eqn based on his correlation published\n",
    "#resultsDF['VEI_DR_GT'] = 2.63 * np.log10(resultsDF['DR']) - 1.27 # from correlating Steve's data, below\n",
    "#resultsDF['VEI_HC_GT'] = 2.5 * np.log10(resultsDF['Hc_km']) + 0.9  # from correlating Steve's data, below\n",
    "\n",
    "def V2VEI(V, in_km=False):\n",
    "    f = 0\n",
    "    if in_km:\n",
    "        f = 9\n",
    "    return np.log10(V) - 4.0 + f\n",
    "\n",
    "def H2VEI(H, in_km=False):\n",
    "    f = 0\n",
    "    if in_km:\n",
    "        f = 3\n",
    "    VEI_H1 = (H*10**f + 25)/9 # Sahagian et al poster, for VEI 3+\n",
    "    VEI_H2 = np.log10(H)-1.0+f # my correlation from definition of VEI wikipedia for VEI <=3\n",
    "    return np.min([VEI_H1, VEI_H2])\n",
    "\n",
    "def estimate_VEI(df, Hcol='H', Vcol='V', in_km=False): # H in m, V in m3\n",
    "    df['VEI_V']=None\n",
    "    df['VEI_H']=None\n",
    "    for i, row in df.iterrows():\n",
    "        #print(i, row)\n",
    "        VEI = []\n",
    "        VEI_H = []\n",
    "        VEI_V = []\n",
    "        if Hcol and row[Hcol]:\n",
    "            VEI_H.append(H2VEI(row[Hcol], in_km=in_km))\n",
    "        if Vcol and row[Vcol]:\n",
    "            VEI_V.append(V2VEI(row[Vcol], in_km=in_km))\n",
    "        #print(VEI_H, VEI_V)\n",
    "        if len(VEI)>0:\n",
    "            df.at[i, 'VEI'] = np.round(np.max(VEI),1)\n",
    "        if len(VEI_H)>0:\n",
    "            df.at[i, 'VEI_H'] = np.round(VEI_H,1)\n",
    "        if len(VEI_V)>0:\n",
    "            df.at[i, 'VEI_V'] = np.round(VEI_V,1)\n",
    "\n",
    "estimate_VEI(resultsDF, Hcol='H', Vcol='V')\n",
    "\n",
    "#resultsDF.drop(['M_DR', 'M_DRS'], axis='columns', inplace=True)\n",
    "#resultsDF.drop(columns=['M_DR', 'M_DRS'],inplace=True)\n",
    "#display(resultsDF)\n",
    "resultsDF.to_csv('instrumental_seismic_VEI_droppedcolumns.csv')\n",
    "#if 'tremor' in resultsDF.iloc[7,'Event']:\n",
    "#    resultsDF.drop([7],inplace=True)\n",
    "\n",
    "resultsDF['log10DR'] = np.round(np.log10(resultsDF['DR']),1)\n",
    "#resultsDF['log10DRS'] = np.log10(resultsDF['DRS'])\n",
    "resultsDF['V_km3'] = resultsDF['V_km3'].astype(float)\n",
    "resultsDF['log10V'] = np.log10(resultsDF['V_km3'])+9\n",
    "resultsDF['Hc_km'] = resultsDF['Hc_km'].astype(float)\n",
    "resultsDF['log10H'] = np.round(np.log10(resultsDF['Hc_km'])+3,1)\n",
    "resultsDF.drop([1, 2, 3],inplace=True) # remove PDCs\n",
    "resultsDF['ML'] = resultsDF['ML'] + 2.4\n",
    "resultsDF.at[30, 'ML'] = 5.8\n",
    "resultsDF.at[30, 'ME'] = np.nan #NaN\n",
    "resultsDF2 = resultsDF.copy().iloc[0:-1] # remove Hunga Tonga?\n",
    "\n",
    "display(resultsDF[['Event', 'start', 'ML', 'ME', 'log10DR', 'VEI_V', 'log10H']])"
   ]
  },
  {
   "cell_type": "markdown",
   "id": "c42af7f3-9355-4c0a-b388-069c4c0edc63",
   "metadata": {},
   "source": [
    "# 7. Magnitude scale correlations"
   ]
  },
  {
   "cell_type": "code",
   "execution_count": null,
   "id": "d2f86c21-5435-4665-927e-a7983078cdf2",
   "metadata": {},
   "outputs": [],
   "source": [
    "print('\\n\\nWITH HUNGA TONGA\\n')\n",
    "\n",
    "DFT.linearRegressMagnitudesBySubclass(resultsDF, subclass_col='subclass', mag_columns=['log10DR', 'ME', 'VEI_H', 'VEI_V'], \\\n",
    "                                      subclasses=[], \\\n",
    "                                      plot=True, print_stats=True)"
   ]
  },
  {
   "cell_type": "code",
   "execution_count": null,
   "id": "649093e6-6324-4375-8acd-da4615c26ecb",
   "metadata": {},
   "outputs": [],
   "source": [
    "print('\\n\\nWITHOUT HUNGA TONGA\\n')\n",
    "\n",
    "DFT.linearRegressMagnitudesBySubclass(resultsDF2, subclass_col='subclass', mag_columns=['ME', 'log10DR', 'VEI_H', 'VEI_V'], \\\n",
    "                                      subclasses=[], \\\n",
    "                                      plot=True, print_stats=True)"
   ]
  },
  {
   "cell_type": "code",
   "execution_count": null,
   "id": "fc111645-41a2-47d5-bd9a-adc8b4fedcd6",
   "metadata": {},
   "outputs": [],
   "source": [
    "DFT.fix_slope(resultsDF2, 'ML', 'ME', mfixed=4/3)\n",
    "DFT.fix_slope(resultsDF2, 'ME', 'ML', mfixed=3/4)\n",
    "DFT.fix_slope(resultsDF2, 'log10DR', 'ME', mfixed=4/3)\n",
    "DFT.fix_slope(resultsDF2, 'ME', 'log10DR', mfixed=3/4)\n",
    "DFT.fix_slope(resultsDF2, 'ML', 'log10DR', mfixed=1.0)\n",
    "DFT.fix_slope(resultsDF2, 'log10DR', 'ML', mfixed=1.0)"
   ]
  },
  {
   "cell_type": "code",
   "execution_count": null,
   "id": "a7b0a014-5755-4e07-8667-275b9c961783",
   "metadata": {},
   "outputs": [],
   "source": [
    "# fix slope at 1.33 for ME vs ML\n",
    "DFT.fix_slope(resultsDF2, 'ML', 'log10DR', mfixed=1.0)"
   ]
  },
  {
   "cell_type": "code",
   "execution_count": null,
   "id": "2d03ea94-63c2-4576-80f0-d3817747ad16",
   "metadata": {},
   "outputs": [],
   "source": [
    "np.log10(10000)*0.11"
   ]
  },
  {
   "cell_type": "markdown",
   "id": "a60457c4-3157-4070-8cbb-13d3b96732c4",
   "metadata": {},
   "source": [
    "Which values are reasonable to accept?\n",
    "- For event 0, there were only short-period seismometers available, so the VLP-band results should be ignored. Since we are at local distances, we expect body waves to dominate, so we choose $D_R$ over $D_{RS}$ and accept 218 ${cm}^2$.\n",
    "- For event 1, while broadband seismometers were available, the VLP-band results are lower. Again, we prefer $D_R$ over $D_{RS}$, since we are at local distances, so we accept 342 ${cm}^2$.\n",
    "- For event 2, while the VLP bands show higher results, Whakaari is a small island, so the VLP energy likely comes from ocean noise. Again, we are at the local scale, so we accept 18.8 ${cm}^2$.\n",
    "- For event 3, Redoubt is coastal, and we are at local distances, so we choose $D_R$, and accept 64 ${cm}^2$.\n",
    "- For event 4, station MSVF is about 760 km from Hunga Tonga, so surface waves dominate, and most of the signal is between 0.01 and 0.6 Hz. Is the $D_{RS}^{VLP}$ value of 39,000 ${cm}^2$ reasonable? \n",
    "\n",
    "Clearly, we must be very careful applying the same measurements at local, regional, and global scales!\n",
    "\n",
    "#### CAVEAT: We ignored inelastic attenuation in this analysis. Including it would make Reduced Displacement estimates even higher!"
   ]
  },
  {
   "cell_type": "markdown",
   "id": "ac677797-a918-4f20-9120-d61903a79636",
   "metadata": {},
   "source": [
    "Finally, there is a sort of \"magnitude scale\" for volcanic eruptions called the Volcanic Explosivity Index (VEI), which similar to earthquake magnitude scales, runs from about 1 to 8. However, VEI is not an instrumental measurement, and instead is estimated from the volume of deposits found, and the height an ash column reaches, and other things. Hunga Tonga was estimated by different researchers to be either a VEI=5 or VEI=6 eruption, so if we fix that at VEI=5.5 and throw caution to the wind, here are instrumental VEI estimates for the other events above too:"
   ]
  },
  {
   "cell_type": "markdown",
   "id": "34ef8bdd-280e-4a2b-8bb9-cb9ba1d487bd",
   "metadata": {},
   "source": [
    "# McNutt & Nishimura [2008] dataset #"
   ]
  },
  {
   "cell_type": "code",
   "execution_count": null,
   "id": "83014cfd-a05a-447b-b253-e8009b264f53",
   "metadata": {},
   "outputs": [],
   "source": [
    "import os\n",
    "import numpy as np\n",
    "import sys\n",
    "sys.path.append('lib')\n",
    "import dataframe_tools as DFT\n",
    "import pandas as pd\n",
    "import importlib\n",
    "importlib.reload(DFT)\n",
    "mcnuttDF = pd.read_csv(os.path.join(os.getenv('HOME'), 'Dropbox/BRIEFCASE/SSA2024/mcnutt2008.csv'))\n",
    "mcnuttDF['Duration'] = mcnuttDF['Duration'] * 3600 # hours to seconds\n",
    "if 'Height' in mcnuttDF.columns:\n",
    "    mcnuttDF['H'] = mcnuttDF['Height'] * 1000 # km to m\n",
    "    mcnuttDF['V'] = mcnuttDF['V'] * 1e6 # 10^6m3 to m3\n",
    "    mcnuttDF.drop(columns=['Height'],inplace=True)\n",
    "\n",
    "estimate_VEI(mcnuttDF, Hcol='H', Vcol='V')\n",
    "#display(mcnuttDF)\n",
    "#mcnuttDF = mcnuttDF.replace({None: np.nan, NaN: np.nan})\n",
    "#mcnuttDF.iloc[14]['V']\n",
    "#print(mcnuttDF.isna())\n",
    "\n",
    "mcnuttDF['log10DR'] = np.round(np.log10(mcnuttDF['DR']),1)\n",
    "mcnuttDF['log10V'] = np.round(np.log10(mcnuttDF['V']),1)\n",
    "mcnuttDF['log10H'] = np.round(np.log10(mcnuttDF['H']),1)\n",
    "mcnuttDF_without_smallest= mcnuttDF[mcnuttDF['log10V']>4.0]\n",
    "DFT.linearRegressMagnitudesBySubclass(mcnuttDF_without_smallest, mag_columns=['log10DR', 'log10H', 'log10V', 'VEI', 'VEI_H', 'VEI_V'], \\\n",
    "                                      subclasses=[], \\\n",
    "                                      plot=True, print_stats=True)\n",
    "\n",
    "display(mcnuttDF[['Volcano', 'Date', 'log10DR', 'VEI_V', 'log10H']])"
   ]
  },
  {
   "cell_type": "code",
   "execution_count": null,
   "id": "76b4f98d-cf2f-4024-ac5c-9b3f8bdcaa3b",
   "metadata": {},
   "outputs": [],
   "source": [
    "DFT.fix_slope(mcnuttDF, 'VEI', 'log10DR', mfixed=0.46)"
   ]
  },
  {
   "cell_type": "code",
   "execution_count": null,
   "id": "b0c14a96-e658-4f02-b6a7-5b5ec41f007c",
   "metadata": {},
   "outputs": [],
   "source": [
    "mcnuttDF_small = mcnuttDF[mcnuttDF['log10DR']<3.05]\n",
    "DFT.fix_slope(mcnuttDF_small, 'VEI', 'log10DR', mfixed=0.46)"
   ]
  },
  {
   "cell_type": "code",
   "execution_count": null,
   "id": "c8219c28-f777-4271-8477-d195298aee85",
   "metadata": {},
   "outputs": [],
   "source": [
    "DFT.fix_slope(mcnuttDF_small, 'log10DR', 'VEI',  mfixed=1.0/0.46)"
   ]
  },
  {
   "cell_type": "code",
   "execution_count": null,
   "id": "4193bdfa-11be-4101-8f65-a70cf6a8a0c1",
   "metadata": {},
   "outputs": [],
   "source": [
    "DFT.fix_slope(mcnuttDF_small, 'log10H', 'log10DR', mfixed=1.8)\n",
    "DFT.fix_slope(mcnuttDF_small, 'log10DR', 'log10H', mfixed=1.0/1.8)\n",
    "#DFT.fix_slope(mcnuttDF_small, 'log10DR', 'VEI_V', mfixed=1.0)"
   ]
  },
  {
   "cell_type": "code",
   "execution_count": null,
   "id": "240f8b7f-5693-4e65-9d58-1cda87380321",
   "metadata": {},
   "outputs": [],
   "source": [
    "DFT.linregress(mcnuttDF, 'log10V', 'VEI', plot=True, print_stats=True)\n",
    "mcnuttDF_small = mcnuttDF[mcnuttDF['log10V']>3.05]\n",
    "DFT.linregress(mcnuttDF_small, 'log10V', 'VEI', plot=True, print_stats=True)"
   ]
  },
  {
   "cell_type": "code",
   "execution_count": null,
   "id": "e613f9d2-84de-4cc4-b327-05e899df616f",
   "metadata": {},
   "outputs": [],
   "source": [
    "DFT.linregress(mcnuttDF, 'log10H', 'VEI', plot=True, print_stats=True)\n",
    "mcnuttDF_small = mcnuttDF[mcnuttDF['log10H']>3.05]\n",
    "DFT.linregress(mcnuttDF_small, 'log10H', 'VEI', plot=True, print_stats=True)\n",
    "mcnuttDF_small = mcnuttDF[mcnuttDF['log10H']<4.2]\n",
    "DFT.linregress(mcnuttDF_small, 'log10H', 'VEI', plot=True, print_stats=True)"
   ]
  },
  {
   "cell_type": "code",
   "execution_count": null,
   "id": "b2ab9b91-7f36-40e2-bfc1-5e6d9beac93d",
   "metadata": {},
   "outputs": [],
   "source": [
    "DFT.linregress(mcnuttDF, 'log10DR', 'log10H', plot=True, print_stats=True)\n",
    "mcnuttDF_small = mcnuttDF[mcnuttDF['log10DR']<3.05]\n",
    "#mcnuttDF_small = mcnuttDF_small[mcnuttDF_small['log10Height']>3.2]\n",
    "DFT.linregress(mcnuttDF_small, 'log10DR', 'log10H', plot=True, print_stats=True)"
   ]
  },
  {
   "cell_type": "markdown",
   "id": "9404bcca-cbc8-435e-b3ca-4807c4ff33a5",
   "metadata": {},
   "source": [
    "# Try combining the McNutt & Nishimura with my quantitative measurements"
   ]
  },
  {
   "cell_type": "code",
   "execution_count": null,
   "id": "c4fd6685-c299-4287-b51f-22c7188bf7ca",
   "metadata": {},
   "outputs": [],
   "source": [
    "print(resultsDF.columns)\n",
    "print(mcnuttDF.columns)"
   ]
  },
  {
   "cell_type": "code",
   "execution_count": null,
   "id": "e04f474c-65bd-47cf-a290-4e16c3c2136d",
   "metadata": {},
   "outputs": [],
   "source": [
    "resultsA = resultsDF[['DR', 'VEI', 'log10DR', 'log10V', 'log10H', 'VEI_H', 'VEI_V']]\n",
    "print(resultsA)\n",
    "mcnuttA = mcnuttDF[['DR', 'VEI', 'log10DR', 'log10V', 'log10H', 'VEI_H', 'VEI_V']]\n",
    "print(mcnuttA)"
   ]
  },
  {
   "cell_type": "code",
   "execution_count": null,
   "id": "bf6839a1-81bb-4f40-a038-c9cafe7dae49",
   "metadata": {},
   "outputs": [],
   "source": [
    "combinedA = pd.concat([resultsA,mcnuttA])\n",
    "display(combinedA)"
   ]
  },
  {
   "cell_type": "code",
   "execution_count": null,
   "id": "0be94aeb-8254-4af5-96da-c5462b8a658c",
   "metadata": {},
   "outputs": [],
   "source": [
    "DFT.linearRegressMagnitudesBySubclass(combinedA, mag_columns=['log10DR', 'log10H', 'log10V', 'VEI', 'VEI_H', 'VEI_V'], \\\n",
    "                                      subclasses=[], \\\n",
    "                                      plot=True, print_stats=True)"
   ]
  },
  {
   "cell_type": "code",
   "execution_count": null,
   "id": "ea7a659f-43ed-47d0-b1f3-abebd669712f",
   "metadata": {},
   "outputs": [],
   "source": [
    "c = combinedA['VEI_V'] - combinedA['log10DR']\n",
    "print(c)\n",
    "print(c.mean())\n",
    "print(c.median())"
   ]
  },
  {
   "cell_type": "markdown",
   "id": "7982a083-7234-4092-a838-b934d04cd10c",
   "metadata": {},
   "source": [
    "# Try analyzing the Redoubt 2009 data I processed with results from McNutt et al 2013 and Buurman et al 2013"
   ]
  },
  {
   "cell_type": "code",
   "execution_count": null,
   "id": "70dccebe-3a05-4a2f-a8a3-d3696654dc57",
   "metadata": {},
   "outputs": [],
   "source": [
    "redoubtDF = pd.read_csv(os.path.join(os.getenv('HOME'), 'Developer/skience2024_GTplus/02 Volcano Monitoring/redoubt2009.csv'))\n",
    "redoubtDF['ME_s'] = np.round(2/3*np.log10(redoubtDF['S_Eng']) - 3.2,1)\n",
    "redoubtDF['ME_a'] = np.round(2/3*np.log10(redoubtDF['P_Eng']) - 3.2,1)\n",
    "redoubtDF['log10A_s'] = np.log10(redoubtDF['S_Amp'])\n",
    "redoubtDF['log10A_a'] = np.log10(redoubtDF['P_Amp'])\n",
    "totalV = 1e8 # m3\n",
    "totalE = redoubtDF['sum(ER)'].sum()\n",
    "redoubtDF['V_ER'] = redoubtDF['sum(ER)']/totalE * totalV\n",
    "redoubtDF['log10VER'] = np.log10(redoubtDF['V_ER'])\n",
    "redoubtDF['VEI_Vs'] = np.round(redoubtDF['log10VER'] - 4,1)\n",
    "totalEA = redoubtDF['P_Eng'].sum()\n",
    "redoubtDF['V_ERA'] = redoubtDF['P_Eng']/totalEA * totalV\n",
    "redoubtDF['log10VERA'] = np.log10(redoubtDF['V_ERA'])\n",
    "redoubtDF['VEI_Va'] = np.round(redoubtDF['log10VERA'] + np.log10(totalE/totalEA),1)\n",
    "#display(mergedDF[['Event', 'start', 'ML', 'ME', 'log10DR', 'VEI_V', 'log10H', 'ME_s', 'ME_a', 'VEI_Vs', 'VEI_Va']])\n",
    "mergedDF = pd.merge(redoubtDF, resultsDF, on=\"Event\", suffixes=['_x', None])\n",
    "mergedDF.loc[:,~mergedDF.columns.str.endswith('_x')]\n",
    "#display(mergedDF)\n",
    "display(mergedDF[['Event', 'start', 'ML', 'ME', 'log10DR', 'log10H', 'ME_s', 'ME_a', 'VEI_Vs', 'VEI_Va']])\n",
    "#display(redoubtDF)\n",
    "#print(redoubtDF.columns)"
   ]
  },
  {
   "cell_type": "code",
   "execution_count": null,
   "id": "1a16fd7c-c8ba-437c-9dbd-dca7cbbce2ca",
   "metadata": {},
   "outputs": [],
   "source": [
    "redoubtDF2 = redoubtDF.iloc[1:]\n",
    "redoubtDF2 = redoubtDF.copy()\n",
    "#redoubtDF2.drop(0, inplace=True)\n",
    "redoubtDF2.drop(8, inplace=True)\n",
    "DFT.linearRegressMagnitudesBySubclass(redoubtDF2, mag_columns=['ME_seismic', 'ME_acoustic', 'ME', 'ML', 'log10SAmp', 'log10PAmp', 'VEI_seismic', 'VEI_acoustic'], \\\n",
    "                                      subclasses=[], \\\n",
    "                                      plot=True, print_stats=True)"
   ]
  },
  {
   "cell_type": "code",
   "execution_count": null,
   "id": "7ffb2c15-0e88-44ae-a732-9956b3875c3f",
   "metadata": {},
   "outputs": [],
   "source": []
  }
 ],
 "metadata": {
  "kernelspec": {
   "display_name": "Python 3 (ipykernel)",
   "language": "python",
   "name": "python3"
  },
  "language_info": {
   "codemirror_mode": {
    "name": "ipython",
    "version": 3
   },
   "file_extension": ".py",
   "mimetype": "text/x-python",
   "name": "python",
   "nbconvert_exporter": "python",
   "pygments_lexer": "ipython3",
   "version": "3.11.8"
  }
 },
 "nbformat": 4,
 "nbformat_minor": 5
}
