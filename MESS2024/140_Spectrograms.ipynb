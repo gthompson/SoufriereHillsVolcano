{
 "cells": [
  {
   "cell_type": "markdown",
   "id": "30dba47c-4596-42dc-b4c8-4a06decec39b",
   "metadata": {},
   "source": [
    "# Pensive\n",
    "\n",
    "Before exploring Python/ObsPy Spectrograms, first let's use Pensive, a Java package developed by Tom Parker at the Alaska Volcano Observatory around year 2005 and it effectively replaced paper-based helical drum recorders.\n",
    "\n",
    "You can download Pensive from https://volcanoes.usgs.gov/software/pensive/index.shtml (but no need to download it right now).\n",
    "\n",
    "Depending on when (and whether) you downloaded the shared Dropbox folder, you may already have this at systems/pensive below the current directory."
   ]
  },
  {
   "cell_type": "code",
   "execution_count": 2,
   "id": "57f370cf-49f1-4691-ad0d-4b71eacf1b28",
   "metadata": {},
   "outputs": [
    {
     "name": "stdout",
     "output_type": "stream",
     "text": [
      "You have it!\n"
     ]
    }
   ],
   "source": [
    "import os\n",
    "if os.path.isdir(os.path.join('systems', 'pensive')):\n",
    "    print('You have it!')\n",
    "else:\n",
    "    print('Missing - but just follow along')"
   ]
  },
  {
   "cell_type": "markdown",
   "id": "c89449bd-f8eb-4513-a4b4-863d6feea9d0",
   "metadata": {},
   "source": [
    "Demo: Open Pensive, browse"
   ]
  },
  {
   "cell_type": "code",
   "execution_count": 3,
   "id": "0fe94470-7382-425f-b1cf-f38cdffe530b",
   "metadata": {},
   "outputs": [],
   "source": [
    "pwd = os.getcwd()\n",
    "os.chdir('systems/pensive/html')\n",
    "os.system('open index.html')\n",
    "os.chdir(pwd)"
   ]
  },
  {
   "cell_type": "markdown",
   "id": "e15c5b50-7ab6-4675-9726-315647ebef80",
   "metadata": {},
   "source": [
    "# Spectrograms module"
   ]
  },
  {
   "cell_type": "markdown",
   "id": "17a88249-d547-4361-a512-310e939def7e",
   "metadata": {},
   "source": [
    "On GitHub: https://github.com/gthompson/icewebPy"
   ]
  },
  {
   "cell_type": "markdown",
   "id": "3673269b-6295-4e94-b575-17958a59d893",
   "metadata": {},
   "source": [
    "The Spectrograms module computes a range of frequency-derived features including meanf, peakf, fratio, ..."
   ]
  },
  {
   "cell_type": "code",
   "execution_count": 5,
   "id": "e5ef085b-b542-4f19-8bdf-7e2611303a90",
   "metadata": {},
   "outputs": [],
   "source": [
    "import os\n",
    "import sys\n",
    "import obspy\n",
    "sys.path.append('lib')\n",
    "import Spectrograms\n",
    "\n",
    "# Load raw seismic data - and set units accordingly\n",
    "DATA_DIR = os.path.join('data')\n",
    "SDS_DIR = os.path.join(DATA_DIR, 'continuous','SDS')\n",
    "RESPONSE_DIR = os.path.join(DATA_DIR, 'responses')"
   ]
  }
 ],
 "metadata": {
  "kernelspec": {
   "display_name": "Python 3 (ipykernel)",
   "language": "python",
   "name": "python3"
  },
  "language_info": {
   "codemirror_mode": {
    "name": "ipython",
    "version": 3
   },
   "file_extension": ".py",
   "mimetype": "text/x-python",
   "name": "python",
   "nbconvert_exporter": "python",
   "pygments_lexer": "ipython3",
   "version": "3.11.8"
  }
 },
 "nbformat": 4,
 "nbformat_minor": 5
}
