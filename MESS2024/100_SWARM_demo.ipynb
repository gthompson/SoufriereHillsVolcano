{
 "cells": [
  {
   "cell_type": "markdown",
   "id": "32488fe0-48d7-4f83-af6b-b9a58c4a57da",
   "metadata": {},
   "source": [
    "Before exploring Python/ObsPy based tools to examine continuous seismic data, first let's use Seismic Waveform Analysis and Real-time Monitor, a Java package developed by Dan and Peter Cerveilli at the Hawaii Volcano Observatory around year 2005 and it effectively replaced paper-based helical drum recorders.\n",
    "\n",
    "You can download SWARM from https://volcanoes.usgs.gov/software/swarm/index.shtml (but no need to download it right now).\n",
    "\n",
    "Depending on when (and whether) you downloaded the shared Dropbox folder, you may already have this at systems/swarm-3.2.0 below the current directory."
   ]
  },
  {
   "cell_type": "code",
   "execution_count": 1,
   "id": "a7c2e669-ce24-4920-b0e8-a289273e4a31",
   "metadata": {},
   "outputs": [
    {
     "name": "stdout",
     "output_type": "stream",
     "text": [
      "You have it!\n"
     ]
    }
   ],
   "source": [
    "import os\n",
    "if os.path.isdir(os.path.join('systems', 'swarm-3.2.0')):\n",
    "    print('You have it!')\n",
    "else:\n",
    "    print('Missing - but just follow along')\n"
   ]
  },
  {
   "cell_type": "code",
   "execution_count": null,
   "id": "cc91797c-8f1b-4c0b-983d-ae34d0ef2476",
   "metadata": {},
   "outputs": [],
   "source": [
    "Demo: Open SWARM, open SDS archive, browse"
   ]
  }
 ],
 "metadata": {
  "kernelspec": {
   "display_name": "Python 3 (ipykernel)",
   "language": "python",
   "name": "python3"
  },
  "language_info": {
   "codemirror_mode": {
    "name": "ipython",
    "version": 3
   },
   "file_extension": ".py",
   "mimetype": "text/x-python",
   "name": "python",
   "nbconvert_exporter": "python",
   "pygments_lexer": "ipython3",
   "version": "3.11.8"
  }
 },
 "nbformat": 4,
 "nbformat_minor": 5
}
