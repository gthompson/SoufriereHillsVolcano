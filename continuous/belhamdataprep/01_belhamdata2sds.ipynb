{
 "cells": [
  {
   "cell_type": "code",
   "execution_count": 1,
   "id": "b7041033-7a3e-41dc-8f5f-de11cd762b05",
   "metadata": {},
   "outputs": [],
   "source": [
    "import os\n",
    "import glob\n",
    "import obspy\n",
    "srcdir = '/data/Montserrat/LaharStudy'\n",
    "SDS_DIR = '/data/SDS'\n",
    "network = 'MV'"
   ]
  },
  {
   "cell_type": "code",
   "execution_count": null,
   "id": "3fa2693d-f5c4-4dbb-b135-75478c2d5fdd",
   "metadata": {},
   "outputs": [],
   "source": [
    "# Run through SDS archive in /data/Montserrat/LaharStudy, which has .miniseed appended to filename\n",
    "for yeardir in sorted(glob.glob(os.path.join(srcdir, '20??'))):\n",
    "    networkdir = os.path.join(yeardir, network)\n",
    "    for stationdir in sorted(glob.glob(os.path.join(networkdir, '*'))):\n",
    "        for channeldir in sorted(glob.glob(os.path.join(stationdir, '*.[DL]'))):\n",
    "            if 'SOH.L' in channeldir:\n",
    "                channeldir = os.path.join(channeldir, 'soh')\n",
    "            for filepath in sorted(glob.glob(os.path.join(channeldir, f'{network}*'))):\n",
    "                if os.path.isfile(filepath):\n",
    "                    newfilepath = filepath.replace(srcdir, SDS_DIR)\n",
    "                    if '.miniseed' in filepath:\n",
    "                        newfilepath = newfilepath.replace('.miniseed', '')\n",
    "                    if not os.path.isfile(newfilepath):\n",
    "                        newdirpath = os.path.dirname(newfilepath)\n",
    "                        if not os.path.isdir(newdirpath):\n",
    "                            pass\n",
    "                            os.makedirs(newdirpath)\n",
    "                        print(f\"cp {filepath} {newfilepath}\")\n",
    "                        os.system(f\"cp {filepath} {newfilepath}\")"
   ]
  }
 ],
 "metadata": {
  "kernelspec": {
   "display_name": "Python 3 (ipykernel)",
   "language": "python",
   "name": "python3"
  },
  "language_info": {
   "codemirror_mode": {
    "name": "ipython",
    "version": 3
   },
   "file_extension": ".py",
   "mimetype": "text/x-python",
   "name": "python",
   "nbconvert_exporter": "python",
   "pygments_lexer": "ipython3",
   "version": "3.10.15"
  }
 },
 "nbformat": 4,
 "nbformat_minor": 5
}
